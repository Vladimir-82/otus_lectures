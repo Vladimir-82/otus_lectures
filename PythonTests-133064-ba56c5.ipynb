{
 "cells": [
  {
   "cell_type": "code",
   "execution_count": null,
   "id": "432b214d-0044-4162-975c-1fc6b0a2324a",
   "metadata": {},
   "outputs": [],
   "source": [
    "Необходимость тестирования"
   ]
  },
  {
   "cell_type": "code",
   "execution_count": null,
   "id": "86ee1fc8-4726-4541-abb8-3b9fad0d0211",
   "metadata": {},
   "outputs": [],
   "source": [
    "Зачем нужно тестирование?\n",
    "1.\tОбеспечение качества: Тестирование помогает выявить ошибки и дефекты на ранних стадиях \n",
    "разработки, что значительно снижает стоимость их исправления.\n",
    "2.\tПоддерживаемость кода: Хорошо протестированный код легче поддерживать и расширять, поскольку \n",
    "тесты гарантируют, что изменения не нарушают существующую функциональность.\n",
    "3.\tДокументация: Тесты могут служить живой документацией, показывая, как должен работать код и\n",
    "какие результаты ожидать.\n",
    "4.\tУверенность в коде: Наличие тестов позволяет разработчикам быть уверенными в своих изменениях и\n",
    "быстрее вносить их.\n",
    "5.\tПредотвращение регрессий: Тесты помогают убедиться, что новые изменения не сломали существующую\n",
    "функциональность (регрессию).\n",
    "Виды тестирования\n",
    "1.\tМодульное тестирование: Проверяет отдельные модули или функции кода. В Python это обычно делается\n",
    "с помощью библиотек unittest или pytest.\n",
    "2.\tИнтеграционное тестирование: Проверяет взаимодействие между различными модулями или компонентами.\n",
    "3.\tФункциональное тестирование: Проверяет функциональность системы на соответствие требованиям.\n",
    "4.\tСистемное тестирование: Проверяет всю систему целиком в реальной среде.\n",
    "5.\tПриемочное тестирование: Проверяется, соответствует ли система требованиям заказчика.\n",
    "\n",
    "Когда нужно писать тесты?\n",
    "1.\tДо написания кода (TDD):\n",
    "o\tTest-Driven Development (TDD): Методология, при которой тесты пишутся до написания кода. \n",
    "Это помогает точно определить требования и архитектуру кода перед его реализацией.\n",
    "o\tПреимущества: Более структурированный и целенаправленный процесс разработки, улучшенная\n",
    "архитектура кода, быстрая обратная связь.\n",
    "2.\tПосле написания кода:\n",
    "o\tЕсли не использовался TDD, тесты можно написать после того, как код уже готов.\n",
    "o\tПреимущества: Возможность сразу проверить всю функциональность кода, меньше времени на\n",
    "начальный этап разработки.\n",
    "3.\tВо время рефакторинга:\n",
    "o\tПри внесении изменений в существующий код важно писать тесты, чтобы убедиться, что рефакторинг\n",
    "не нарушил функциональность.\n",
    "4.\tПеред выпуском новой версии:\n",
    "o\tОбязательно писать тесты перед выпуском новой версии приложения или библиотеки, чтобы убедиться \n",
    "в стабильности и корректности работы.\n",
    "5.\tПри добавлении новой функциональности:\n",
    "o\tКаждое новое требование или функция должны сопровождаться соответствующими тестами.\n",
    "Практические рекомендации\n",
    "1.\tПокрытие кода тестами: Стремитесь к высокому покрытию кода тестами, но помните, что 100% \n",
    "покрытие не всегда гарантирует отсутствие ошибок.\n",
    "2.\tИспользование фреймворков: В Python популярными фреймворками для тестирования являются unittest, \n",
    "pytest и nose.\n",
    "3.\tПостоянное тестирование: Интегрируйте тестирование в процесс непрерывной интеграции (CI), чтобы\n",
    "тесты запускались автоматически при каждом изменении кода.\n",
    "4.\tПисать простые и понятные тесты: Тесты должны быть легко читаемыми и понятными, чтобы их мог\n",
    "поддерживать любой член команды."
   ]
  },
  {
   "cell_type": "code",
   "execution_count": null,
   "id": "120fa552-0037-49c4-9959-0e8fa8a00c60",
   "metadata": {},
   "outputs": [],
   "source": [
    "пример"
   ]
  },
  {
   "cell_type": "code",
   "execution_count": null,
   "id": "8da37763-e4eb-490a-b045-62dc0d3a9807",
   "metadata": {},
   "outputs": [],
   "source": [
    "#test_sample.py\n",
    "def add(a,b):\n",
    "    return a+b\n",
    "\n",
    "def test_add():\n",
    "    assert add(1,2) == 3\n",
    "    assert add(-1,1) == 0\n",
    "    assert add(0,0) == 0\n",
    "\n",
    "if __name__ == \"__main__\":\n",
    "    import pytest\n",
    "    pytest.main()"
   ]
  },
  {
   "cell_type": "code",
   "execution_count": null,
   "id": "991d2efb-8886-492f-bf7d-79bef6ce5182",
   "metadata": {},
   "outputs": [],
   "source": [
    "Зачем писать тесты?\n",
    "Основные причины\n",
    "1.\tОбеспечение качества кода: Тесты помогают выявить ошибки на ранних стадиях разработки, \n",
    "что снижает затраты на исправление.\n",
    "2.\tПоддерживаемость кода: Наличие тестов облегчает понимание кода и делает его поддержание проще \n",
    "и менее рискованным.\n",
    "3.\tДокументация: Тесты могут служить живой документацией, демонстрируя, как использовать функции\n",
    "и классы.\n",
    "4.\tУверенность в коде: Разработчики могут быть уверены, что изменения не приведут к неожиданным поломкам.\n",
    "5.\tПредотвращение регрессий: Тесты помогают убедиться, что новые изменения не сломали существующую\n",
    "функциональность.\n",
    "\n",
    "Когда писать тесты?\n",
    "1.\tДо написания кода (TDD):\n",
    "o\tTest-Driven Development (TDD): Методология, при которой тесты пишутся до написания кода.\n",
    "o\tПреимущества: Определение требований перед началом работы, улучшенная архитектура кода, быстрая \n",
    "обратная связь.\n",
    "2.\tПосле написания кода:\n",
    "o\tЕсли не используется TDD, тесты можно писать после реализации функциональности.\n",
    "o\tПреимущества: Возможность сразу проверить всю функциональность кода.\n",
    "3.\tВо время рефакторинга:\n",
    "o\tПри внесении изменений в существующий код важно писать тесты, чтобы убедиться, что рефакторинг \n",
    "не нарушил функциональность.\n",
    "4.\tПеред выпуском новой версии:\n",
    "o\tОбязательно писать тесты перед выпуском новой версии приложения или библиотеки, чтобы убедиться \n",
    "в стабильности и корректности работы.\n",
    "5.\tПри добавлении новой функциональности:\n",
    "o\tКаждое новое требование или функция должны сопровождаться соответствующими тестами.\n",
    "\n",
    "TDD (Test-Driven Development)\n",
    "Основные принципы TDD\n",
    "1.\tRed: Напишите тест, который не проходит (так как функциональность еще не реализована).\n",
    "2.\tGreen: Напишите минимально необходимый код, чтобы тест прошел.\n",
    "3.\tRefactor: Оптимизируйте код, сохраняя проходящие тесты."
   ]
  },
  {
   "cell_type": "code",
   "execution_count": null,
   "id": "8b89db19-2df9-4f51-aa3b-ced6aee31cd8",
   "metadata": {},
   "outputs": [],
   "source": [
    "Покрытие тестами\n",
    "Что такое покрытие кода?\n",
    "Покрытие кода (code coverage) — это метрика, которая показывает, какая часть исходного кода была\n",
    "выполнена во время тестирования. Чем выше покрытие, тем более уверенно можно говорить о том, что\n",
    "код протестирован.\n",
    "Виды покрытия\n",
    "1.\tПокрытие строк: Процент строк кода, выполненных во время тестов.\n",
    "2.\tПокрытие ветвей: Процент выполненных ветвей кода (например, условия if-else).\n",
    "3.\tПокрытие путей: Процент выполненных уникальных путей через код.\n",
    "\n",
    "Инструменты для измерения покрытия\n",
    "В Python часто используются следующие инструменты:\n",
    "1.\tCoverage.py: Популярный инструмент для измерения покрытия кода.\n",
    "pip install coverage\n",
    "coverage run -m pytest\n",
    "coverage report -m\n",
    "2.\tPytest-cov: Плагин для Pytest, интегрирующий возможности Coverage.py.\n",
    "pip install pytest-cov\n",
    "pytest --cov=my_module tests/\n",
    "Оптимальный уровень покрытия\n",
    "Хотя 100% покрытие может показаться идеальной целью, это не всегда необходимо или практично. Основные рекомендации:\n",
    "1.\tКритический код: Максимальное покрытие для кода, критичного для безопасности или функциональности.\n",
    "2.\tЧасто изменяемый код: Высокое покрытие для кода, который часто изменяется.\n",
    "3.\tВспомогательный код: Умеренное покрытие для вспомогательного кода."
   ]
  },
  {
   "cell_type": "code",
   "execution_count": null,
   "id": "55e68149-97b7-4cac-a034-3199d93dc8bf",
   "metadata": {},
   "outputs": [],
   "source": [
    "Что именно тестировать?\n",
    "Основные области тестирования\n",
    "1.\tФункции и методы: Убедитесь, что каждая функция или метод работает как ожидается.\n",
    "2.\tКлассы и модули: Тестируйте классы и модули, чтобы проверить их функциональность и взаимодействие.\n",
    "3.\tИнтерфейсы (API): Убедитесь, что API возвращает правильные ответы и обрабатывает ошибки корректно.\n",
    "4.\tГраничные условия: Проверяйте, как система работает на крайних значениях входных данных \n",
    "(минимальные, максимальные значения, пустые значения).\n",
    "5.\tИсключительные ситуации: Тестируйте, как система обрабатывает ошибки и исключения.\n",
    "6.\tСторонние зависимости: Убедитесь, что сторонние библиотеки и сервисы работают корректно с\n",
    "вашим кодом.\n",
    "7.\tПроизводительность: Проверяйте, что система работает быстро и эффективно.\n",
    "8.\tБезопасность: Тестируйте уязвимости и убедитесь, что данные защищены.\n",
    "\n",
    "Пример структуры тестов\n",
    "Директория тестов\n",
    "Обычно тесты структурируются в отдельной директории проекта, например:\n",
    "my_project/\n",
    "├── my_module/\n",
    "│   ├── __init__.py\n",
    "│   └── main.py\n",
    "└── tests/\n",
    "    ├── __init__.py\n",
    "    ├── test_main.py\n",
    "    └── test_helpers.py\n",
    "\n",
    "Пример организации тестов с использованием pytest"
   ]
  },
  {
   "cell_type": "code",
   "execution_count": null,
   "id": "b7b9c8e0-d613-4ea9-9202-371cf7b2be12",
   "metadata": {},
   "outputs": [],
   "source": [
    "пример"
   ]
  },
  {
   "cell_type": "code",
   "execution_count": null,
   "id": "5925ea77-6bf3-46b3-b377-2f0016985f79",
   "metadata": {},
   "outputs": [],
   "source": [
    "#модульное тестирование функций и методов\n",
    "#my_module/main.py\n",
    "def add(a,b):\n",
    "    return a+b\n",
    "def divide(a,b):\n",
    "    if b == 0:\n",
    "        raise ValueError(\"Cannot divide by zero\")\n",
    "    return a / b\n",
    "\n",
    "#tests/test_main.py\n",
    "import pytest\n",
    "from my_module.main import add, divide\n",
    "\n",
    "def test_add():\n",
    "    assert add(1,2) == 3\n",
    "    assert add(-1,1) == 0\n",
    "    assert add(0,0) == 0\n",
    "\n",
    "def test_divide():\n",
    "    assert(4,2) == 2\n",
    "    assert(9,3) == 3\n",
    "\n",
    "def test_divide_by_zero():\n",
    "    with pytest.raises(ValueError):\n",
    "        divide(1,0)\n",
    "\n",
    "#тестирование классов\n",
    "#my_module/user.py\n",
    "class User:\n",
    "    def __init__(self, name, age):\n",
    "        self.name = name\n",
    "        self.age = age\n",
    "    def is_adult(self):\n",
    "        return self.age > 18\n",
    "\n",
    "#tests/test_user.py\n",
    "from my_module.user import User\n",
    "\n",
    "def test_user_creation():\n",
    "    user = User(\"Alice\", 30)\n",
    "    assert user.name == \"Alice\"\n",
    "    assert user.age == 30\n",
    "\n",
    "def test_is_adult():\n",
    "    adult = User(\"Bob\", 20)\n",
    "    assert adult.is_adult()\n",
    "    child = User(\"Alice\", 15)\n",
    "    assert not child.is_adult()\n",
    "\n",
    "#интеграционное тестирование\n",
    "# my_module/database.py\n",
    "def connect_to_db():\n",
    "    pass\n",
    "\n",
    "def get_user_from_db(user_id):\n",
    "    pass\n",
    "\n",
    "#tests/test_database.py\n",
    "def test_get_user_from_db(mocker):\n",
    "    mock_db = mocker.patch(...)\n",
    "\n",
    "    user_data = get_user_from_db(1)\n",
    "    assert user_data[\"name\"] == \"Alice\""
   ]
  },
  {
   "cell_type": "code",
   "execution_count": null,
   "id": "9b131a15-cdca-477b-a019-57f2f5517846",
   "metadata": {},
   "outputs": [],
   "source": [
    "Организация тестов\n",
    "Файлы и папки\n",
    "•\tФайлы тестов: Обычно называются test_<module>.py, чтобы их легко было найти и запустить.\n",
    "•\tПапки для тестов: Создавайте отдельные папки для тестов, если проект большой и включает много модулей.\n",
    "Структура тестов внутри файла\n",
    "•\tИмпорт необходимых модулей: В начале файла.\n",
    "•\tФикстуры: Используйте фикстуры pytest для подготовки начальных условий.\n",
    "•\tТестовые функции и методы: Пишите отдельные функции для каждого аспекта тестирования.\n",
    "Фикстуры в pytest"
   ]
  },
  {
   "cell_type": "code",
   "execution_count": null,
   "id": "c46126da-0523-4052-a8b1-409011edf887",
   "metadata": {},
   "outputs": [],
   "source": [
    "# tests/conftest.py\n",
    "\n",
    "import pytest\n",
    "\n",
    "@pytest.fixture(scope=\"session\")\n",
    "def sample_user():\n",
    "    return User(\"Alice\", 30)\n",
    "\n",
    "#tests/test_user.py\n",
    "\n",
    "def test_user_creation(sample_user):\n",
    "    assert sample_user.name==\"Alice\"\n",
    "\n",
    "def test_is_adult(sample_user):\n",
    "    assert sample_user.is_adult()"
   ]
  },
  {
   "cell_type": "code",
   "execution_count": null,
   "id": "836c257f-fbdf-4b1e-8c39-e086e4e7848f",
   "metadata": {},
   "outputs": [],
   "source": [
    "Pytest как основной инструмент тестирования\n",
    "Преимущества Pytest\n",
    "1.\tПростота использования: Pytest имеет лаконичный и интуитивно понятный синтаксис, что делает его доступным для разработчиков с любым уровнем опыта.\n",
    "2.\tМощные возможности фикстур: Pytest позволяет легко создавать и управлять фикстурами, которые могут использоваться для подготовки тестовых данных и состояния.\n",
    "3.\tПоддержка множества плагинов: Существуют многочисленные плагины для pytest, которые расширяют его функциональность (например, pytest-django, pytest-cov).\n",
    "4.\tХорошая совместимость: Pytest совместим с unittest и nose, что позволяет использовать его в существующих проектах без необходимости полной переделки тестов.\n",
    "5.\tПоддержка параметризации тестов: Pytest позволяет запускать один и тот же тест с различными входными данными, что делает тестирование более гибким и мощным.\n",
    "Основные возможности Pytest"
   ]
  },
  {
   "cell_type": "code",
   "execution_count": null,
   "id": "00aec319-66d6-4aba-96c4-f72e6779a3d3",
   "metadata": {},
   "outputs": [],
   "source": [
    "1. Параметризация тестов"
   ]
  },
  {
   "cell_type": "code",
   "execution_count": null,
   "id": "9edf70df-9e83-4c76-b976-b3e38a04bd6a",
   "metadata": {},
   "outputs": [],
   "source": [
    "пример"
   ]
  },
  {
   "cell_type": "code",
   "execution_count": null,
   "id": "1720ec84-c0d3-4425-88b2-4dd274a258d0",
   "metadata": {},
   "outputs": [],
   "source": [
    "#test_parametrize.py\n",
    "\n",
    "import pytest\n",
    "\n",
    "@pytest.mark.parametrize(\"a, b, expected\", [\n",
    "    (1,1,2),\n",
    "    (2,3,5),\n",
    "    (4,5,9),\n",
    "])\n",
    "def test_add(a, b, expected):\n",
    "    assert add(a, b) == expected\n",
    "\n",
    "#example 2\n",
    "import pytest\n",
    "\n",
    "@pytest.fixture\n",
    "def sample_list():\n",
    "    return [1,2,3,4,5]\n",
    "\n",
    "def test_list_length(sample_list):\n",
    "    assert len(sample_list) == 5\n",
    "\n",
    "def test_list_sum(sample_list):\n",
    "    assert sum(sample_list) == 15\n"
   ]
  },
  {
   "cell_type": "code",
   "execution_count": null,
   "id": "ad9f27f0-9b4c-4dd8-9b9d-a0551c6c8a43",
   "metadata": {},
   "outputs": [],
   "source": [
    "2. Запуск и организация тестов"
   ]
  },
  {
   "cell_type": "code",
   "execution_count": null,
   "id": "5622ba75-be19-4fac-b090-1e7f691fd2cc",
   "metadata": {},
   "outputs": [],
   "source": [
    "пример"
   ]
  },
  {
   "cell_type": "code",
   "execution_count": null,
   "id": "68a183d2-9a4a-4942-8481-cfcf6ea39df4",
   "metadata": {},
   "outputs": [],
   "source": [
    "pytest -v tests/"
   ]
  },
  {
   "cell_type": "code",
   "execution_count": null,
   "id": "52abfe91-83a8-4244-a138-80a908244e8c",
   "metadata": {},
   "outputs": [],
   "source": [
    "3. Тестирование исключений\n",
    "Pytest позволяет легко тестировать случаи, когда должны возникать исключения:\n"
   ]
  },
  {
   "cell_type": "code",
   "execution_count": null,
   "id": "7934f91f-e098-44f8-a152-ef304e9e6d54",
   "metadata": {},
   "outputs": [],
   "source": [
    "пример"
   ]
  },
  {
   "cell_type": "code",
   "execution_count": null,
   "id": "b5680c28-277e-413e-9ad1-83678801c485",
   "metadata": {},
   "outputs": [],
   "source": [
    "#test_exception.py\n",
    "import pytest\n",
    "\n",
    "def test_divide_by_zero():\n",
    "    with pytest.raises(ZeroDivisionError):\n",
    "        1/0"
   ]
  },
  {
   "cell_type": "code",
   "execution_count": null,
   "id": "bfde1c99-447d-460a-9208-97d61b220acb",
   "metadata": {},
   "outputs": [],
   "source": [
    "плагины для pytest: \n",
    "pytest-cov\n",
    "# позволяет получить отчет о покрытии кода тестами, включая отображение строк, \n",
    "# которые были или не были выполнены во время тестирования.\n",
    "pytest --cov=my_module tests/\n",
    "pytest --cov=my_module --cov-report=html tests/ # report in htmlcov div\n",
    "\n",
    "pytest-xdist\n",
    "# добавляет поддержку параллельного выполнения тестов, распределяя их \n",
    "# между несколькими процессами\n",
    "pytest -n auto\n",
    "\n",
    "pytest-mock\n",
    "# добавляет удобные инструменты для создания моков (заменителей) \n",
    "# в тестах с использованием библиотеки unittest.mock в pytest\n",
    "def test_function(mocker):\n",
    "    mock_func = mocker.patch(\"my_module.some_function\", return_value=42)\n",
    "    result = my_module.some_function()\n",
    "    assert result == 42\n",
    "    mock_func.assert_called_once()\n",
    "\n",
    "pytest-django    \n",
    "# предоставляет функциональные возможности, такие как настройка базы данных, \n",
    "# управление транзакциями и фикстуры, которые делают написание и запуск тестов \n",
    "# для Django-приложений более удобным и эффективным.\n",
    "pytest --ds=myproject.settings"
   ]
  },
  {
   "cell_type": "code",
   "execution_count": null,
   "id": "fbea5a27-a212-4b7a-b1d7-afbf575cdafc",
   "metadata": {},
   "outputs": [],
   "source": [
    "Пирамида тестирования"
   ]
  },
  {
   "cell_type": "code",
   "execution_count": null,
   "id": "04ab9d05-b10c-406d-9b21-12931ff179f5",
   "metadata": {},
   "outputs": [],
   "source": [
    "Что такое пирамида тестирования?\n",
    "Пирамида тестирования — это концепция, которая помогает структурировать и организовать тесты в проекте, \n",
    "чтобы обеспечить высокое качество программного обеспечения. Пирамида разделяет тесты на несколько уровней, \n",
    "каждый из которых имеет свои цели и характеристики. Обычно выделяют три основных уровня:\n",
    "1.\tМодульные тесты (Unit Tests).\n",
    "2.\tИнтеграционные тесты (Integration Tests).\n",
    "3.\tКонцевые тесты (End-to-End Tests, E2E).\n",
    "Структура пирамиды тестирования\n",
    "1.\tМодульные тесты (Unit Tests)\n",
    "o\tЦель: Проверка отдельных функций или методов.\n",
    "o\tХарактеристики: Быстрые, изолированные, независимые от других частей системы.\n",
    "o\tПримеры: Тестирование логики бизнес-правил, математических функций, методов классов.\n",
    "o\tИнструменты: Pytest, unittest.\n",
    "2.\tИнтеграционные тесты (Integration Tests)\n",
    "o\tЦель: Проверка взаимодействия между различными модулями или компонентами.\n",
    "o\tХарактеристики: Менее изолированные, проверяют несколько частей системы вместе.\n",
    "o\tПримеры: Тестирование взаимодействия с базой данных, API-запросов, интеграции между микросервисами.\n",
    "o\tИнструменты: Pytest, pytest-django, requests.\n",
    "3.\tКонцевые тесты (End-to-End Tests, E2E)\n",
    "o\tЦель: Проверка всей системы целиком в реальной среде.\n",
    "o\tХарактеристики: Медленные, сложные, имитируют поведение пользователя.\n",
    "o\tПримеры: Тестирование пользовательского интерфейса, полный сценарий использования приложения.\n",
    "o\tИнструменты: Selenium, Cypress, Playwright.\n",
    "\n",
    "Пример пирамиды тестирования для веб-приложения\n",
    "          End-to-End Tests\n",
    "        ─────────────────────\n",
    "           Интеграционные тесты\n",
    "        ────────────────────────\n",
    "                 Модульные тесты\n",
    "Реализация пирамиды тестирования с использованием Pytest\n",
    "1. Модульные тесты"
   ]
  },
  {
   "cell_type": "code",
   "execution_count": null,
   "id": "bff8c082-ada7-4e6e-b092-5dfe78c0e777",
   "metadata": {},
   "outputs": [],
   "source": [
    "2. Интеграционные тесты"
   ]
  },
  {
   "cell_type": "code",
   "execution_count": null,
   "id": "fe0ea381-1467-49f1-bd1a-7e85689730d7",
   "metadata": {},
   "outputs": [],
   "source": [
    "пример"
   ]
  },
  {
   "cell_type": "code",
   "execution_count": null,
   "id": "05a5f14f-926d-46f1-831b-a86150cb7142",
   "metadata": {},
   "outputs": [],
   "source": [
    "# test_database_integration.py\n",
    "import pytest\n",
    "import sqlite3\n",
    "\n",
    "@pytest.fixture\n",
    "def db_connection():\n",
    "    conn = sqlite3.connect(':memory:')\n",
    "    cursor = conn.cursor()\n",
    "    cursor.execute('CREATE TABLE USERS...')\n",
    "    yield conn\n",
    "    conn.close()\n",
    "\n",
    "def test_insert_and_retrive_user(db_connection):\n",
    "    cursor = db_connection.cursor()\n",
    "    cursor.execute('INSERT INTO USERS...')\n",
    "    cursor.commit()\n",
    "\n",
    "    cursor.execute('SELECT ...')\n",
    "    usee = cursor.fetchone()\n",
    "    assert user[0] == 'Alice'"
   ]
  },
  {
   "cell_type": "code",
   "execution_count": null,
   "id": "e760e920-6397-4f23-8b4a-e9fb50e94490",
   "metadata": {},
   "outputs": [],
   "source": [
    "3.  Сквозные тесты"
   ]
  },
  {
   "cell_type": "code",
   "execution_count": null,
   "id": "1e620177-312d-4018-a431-b421cc4ac378",
   "metadata": {},
   "outputs": [],
   "source": [
    "пример"
   ]
  },
  {
   "cell_type": "code",
   "execution_count": null,
   "id": "771127d9-8f21-4d76-9901-ffc351f0f4b0",
   "metadata": {},
   "outputs": [],
   "source": [
    "#test_end_to_end.py\n",
    "\n",
    "from selenium import webdriver\n",
    "import pytest\n",
    "\n",
    "@pytest.fixture\n",
    "def browser():\n",
    "    driver = webdriver.Chrome()\n",
    "    yield driver\n",
    "    driver.quit()\n",
    "\n",
    "def test_home_page(browser):\n",
    "    browser.get(\"http://localhost:8000\")\n",
    "    assert 'Home' in browser.title"
   ]
  },
  {
   "cell_type": "code",
   "execution_count": null,
   "id": "994acfb4-da5b-4f8e-b53e-6e8506fd7b47",
   "metadata": {},
   "outputs": [],
   "source": [
    "Подходы к тестированию\n",
    "1.\tПокрытие кода: Высокий уровень покрытия кода модульными тестами позволяет убедиться,\n",
    "что большая часть функциональности проверена.\n",
    "2.\tАвтоматизация тестов: Интеграционные и концевые тесты также должны быть автоматизированы \n",
    "и запускаться в контексте CI/CD, чтобы обеспечить непрерывное тестирование.\n",
    "3.\tПриоритет тестов: Модульные тесты должны составлять основную часть тестов, так как они быстрые\n",
    "и простые в написании. Интеграционные и концевые тесты должны быть в меньшинстве, но обязательно \n",
    "присутствовать для проверки взаимодействия компонентов и общей работоспособности системы.\n"
   ]
  },
  {
   "cell_type": "code",
   "execution_count": null,
   "id": "e29f0e79-5ee2-44cd-89d0-afbc3f1e99b1",
   "metadata": {},
   "outputs": [],
   "source": [
    "Подходы к дизайну тестов\n",
    "1. Классы эквивалентности (Equivalence Partitioning)\n",
    "Классы эквивалентности помогают сократить количество тестов, разделяя \n",
    "вводные данные на группы, которые считаются эквивалентными по их поведению.\n",
    "Тестирование одной из групп достаточно для проверки всех элементов этой группы.\n",
    "Пример\n",
    "Функция принимает возраст пользователя и возвращает разрешение или отказ на \n",
    "выполнение определенного действия.\n",
    "•\tКлассы эквивалентности:\n",
    "o\tМолодежь (0-17 лет)\n",
    "o\tВзрослые (18-64 года)\n",
    "o\tПожилые (65+ лет)\n"
   ]
  },
  {
   "cell_type": "code",
   "execution_count": null,
   "id": "485947bb-072c-4fac-b381-da47bc8dcfcb",
   "metadata": {},
   "outputs": [],
   "source": [
    "Пример"
   ]
  },
  {
   "cell_type": "code",
   "execution_count": null,
   "id": "1b78b653-690f-47f0-8d38-b114224d403c",
   "metadata": {},
   "outputs": [],
   "source": [
    "import pytest\n",
    "\n",
    "def can_perform_action(age):\n",
    "    if age <= 0:\n",
    "        return \"Wrong age\"\n",
    "    if age < 18:\n",
    "        return \"Denied\"\n",
    "    return \"Allowed\"\n",
    "\n",
    "@pytest.mark.parametrize(\"age, expected\",[\n",
    "    (-1, \"Wrong age\"),\n",
    "    (10, \"Denied\"),\n",
    "    (30, \"Allowed\")\n",
    "])\n",
    "def test_can_perform_action(age, expected):\n",
    "    assert can_perform_action(age) == expected"
   ]
  },
  {
   "cell_type": "code",
   "execution_count": null,
   "id": "8debd38b-772d-4e23-82a0-fe2026c2912a",
   "metadata": {},
   "outputs": [],
   "source": [
    "2. Анализ граничных значений (Boundary Value Analysis)\n",
    "Анализ граничных значений сосредоточен на проверке крайних значений в пределах\n",
    "классов эквивалентности, так как именно на границах чаще всего возникают ошибки.\n"
   ]
  },
  {
   "cell_type": "code",
   "execution_count": null,
   "id": "af71e693-8c26-4406-92dc-d37e26ceddaf",
   "metadata": {},
   "outputs": [],
   "source": [
    "Пример"
   ]
  },
  {
   "cell_type": "code",
   "execution_count": null,
   "id": "d37a4545-1ba5-4bca-9f8d-0a00c919a2fe",
   "metadata": {},
   "outputs": [],
   "source": [
    "import pytest\n",
    "\n",
    "def can_perform_action(age):\n",
    "    if age <= 0 || age > 120:\n",
    "        return \"Wrong age\"\n",
    "    if age < 18:\n",
    "        return \"Denied\"\n",
    "    return \"Allowed\"\n",
    "\n",
    "@pytest.mark.parametrize(\"age, expected\",[\n",
    "    (-1, \"Wrong age\"),\n",
    "    (0, \"Wrong age\"),\n",
    "    ...\n",
    "    (17, \"Denied\"),\n",
    "    (18, \"Allowed\"),\n",
    "    ...\n",
    "    (120, \"Allowed\"),\n",
    "    (121, \"Wrong age\"),\n",
    "])\n",
    "def test_can_perform_action(age, expected):\n",
    "    assert can_perform_action(age) == expected"
   ]
  },
  {
   "cell_type": "code",
   "execution_count": null,
   "id": "ecae1a09-79ff-4913-aa34-256a09c43f2b",
   "metadata": {},
   "outputs": [],
   "source": [
    "3. Попарное тестирование (Pairwise Testing)\n",
    "Попарное тестирование используется для тестирования комбинаций входных параметров. Вместо проверки всех \n",
    "возможных комбинаций, проверяются пары значений, что значительно сокращает количество тестов."
   ]
  },
  {
   "cell_type": "code",
   "execution_count": null,
   "id": "09d676eb-bd55-4434-aac5-4c72a0af16bb",
   "metadata": {},
   "outputs": [],
   "source": [
    "Пример"
   ]
  },
  {
   "cell_type": "code",
   "execution_count": null,
   "id": "83b49be6-71f0-466f-ba0d-3d0b18934a9b",
   "metadata": {},
   "outputs": [],
   "source": [
    "browser = [\"Chrome\", \"Firefox\", \"Safari\"]\n",
    "os = [\"Windows\", \"MacOS\"]\n",
    "network = [\"3G\", \"4G\", \"WiFi\"]\n",
    "\n",
    "def func(browser, os, network):\n",
    "    ...\n",
    "\n",
    "# 1\tChrome\tWindows\t3G\n",
    "# 2\tChrome\tMacOS\t4G\n",
    "# 3\tFirefox\tWindows\tWiFi\n",
    "# 4\tFirefox\tMacOS\t3G\n",
    "# 5\tSafari\tWindows\t4G\n",
    "# 6\tSafari\tMacOS\tWiFi\n",
    "\n",
    "@pytest.mark.parametrize(\"browser, os, network, expected\", [\n",
    "    (\"Chrome\", \"Windows\", \"3G\", \"1\"),\n",
    "    (\"Chrome\", \"MacOS\", \"4G\", \"2\"),\n",
    "    ...\n",
    "])\n",
    "def test_func(browser, os, network):\n",
    "    assert func(browser, os, network) == expected"
   ]
  },
  {
   "cell_type": "code",
   "execution_count": null,
   "id": "9fd5f431-a4ba-4d7a-944f-aaef097d6663",
   "metadata": {},
   "outputs": [],
   "source": [
    "4. Тестирование на основе графов (Graph-Based Testing)"
   ]
  },
  {
   "cell_type": "code",
   "execution_count": null,
   "id": "8d3d07a4-a471-40c0-b714-5c949d053c5d",
   "metadata": {},
   "outputs": [],
   "source": [
    "Пример"
   ]
  },
  {
   "cell_type": "code",
   "execution_count": null,
   "id": "359451cf-3e29-4af6-9a74-2e1956af228f",
   "metadata": {},
   "outputs": [],
   "source": [
    "# Состояния\n",
    "# IDLE — начальное состояние, ожидание начала процесса покупки.\n",
    "# PAYMENT — состояние оплаты.\n",
    "# TICKET_PRINTING — состояние печати билета.\n",
    "# COMPLETED — состояние завершения процесса, когда билет выдан.\n",
    "\n",
    "# Действия\n",
    "# start: Начало покупки (перевод из IDLE в PAYMENT).\n",
    "# pay: Оплата (перевод из PAYMENT в TICKET_PRINTING).\n",
    "# print_ticket: Печать билета (перевод из TICKET_PRINTING в COMPLETED).\n",
    "# reset: Сброс к начальному состоянию (из любого состояния в IDLE).\n",
    "\n",
    "class TicketMachine:\n",
    "    IDLE = \"IDLE\"\n",
    "    PAYMENT = \"PAYMENT\"\n",
    "    TICKET_PRINTING = \"TICKET_PRINTING\"\n",
    "    COMPLETED = \"COMPLETED\"\n",
    "\n",
    "    def __init__(self):\n",
    "        self.state = self.IDLE\n",
    "\n",
    "    def transition(self, action):\n",
    "        if self.state == self.IDLE and action == \"start\":\n",
    "            self.state = self.PAYMENT\n",
    "        elif self.state == self.PAYMENT and action == \"pay\":\n",
    "            self.state = self.TICKET_PRINTING\n",
    "        elif self.state == self.TICKET_PRINTING and action == \"print_ticket\":\n",
    "            self.state = self.COMPLETED\n",
    "        elif action == \"reset\":\n",
    "            self.state = self.IDLE\n",
    "        return self.state\n",
    "\n",
    "# Граф переходов\n",
    "# IDLE --start--> PAYMENT --pay--> TICKET_PRINTING --print_ticket--> COMPLETED\n",
    "# COMPLETED --reset--> IDLE\n",
    "# ANY_STATE --reset--> IDLE\n",
    "\n",
    "import pytest\n",
    "\n",
    "@pytest.mark.parametrize(\"initial_state, action, expected_state\", [\n",
    "    (\"IDLE\", \"start\", \"PAYMENT\"),               # Начало покупки\n",
    "    (\"PAYMENT\", \"pay\", \"TICKET_PRINTING\"),      # Оплата\n",
    "    (\"TICKET_PRINTING\", \"print_ticket\", \"COMPLETED\"),  # Печать билета\n",
    "    (\"COMPLETED\", \"reset\", \"IDLE\"),             # Сброс после завершения\n",
    "    (\"PAYMENT\", \"reset\", \"IDLE\"),               # Сброс во время оплаты\n",
    "    (\"TICKET_PRINTING\", \"reset\", \"IDLE\"),       # Сброс во время печати\n",
    "    (\"IDLE\", \"reset\", \"IDLE\"),                  # Сброс в начальном состоянии\n",
    "])\n",
    "def test_ticket_machine_transitions(initial_state, action, expected_state):\n",
    "    machine = TicketMachine()\n",
    "    machine.state = initial_state\n",
    "    assert machine.transition(action) == expected_state"
   ]
  },
  {
   "cell_type": "code",
   "execution_count": null,
   "id": "1595ffaa-d5be-4e79-af4e-f7c602f179ca",
   "metadata": {},
   "outputs": [],
   "source": [
    "5. Тестирование с использованием Pytest"
   ]
  },
  {
   "cell_type": "code",
   "execution_count": null,
   "id": "0989216c-fc7c-4085-85ff-119a524d2f81",
   "metadata": {},
   "outputs": [],
   "source": [
    "Фикстуры\n",
    "Фикстуры помогают подготовить и очистить тестовую среду."
   ]
  },
  {
   "cell_type": "code",
   "execution_count": null,
   "id": "e77cf770-6887-4d00-8c2f-9e9ac3de8055",
   "metadata": {},
   "outputs": [],
   "source": [
    "Характеристики хорошего теста\n",
    "1.\tЧеткость и лаконичность:\n",
    "o\tТест должен быть понятным и лаконичным. Он должен ясно показывать, что проверяется,\n",
    "и какие условия ожидаются.\n",
    "2.\tИзоляция:\n",
    "o\tТесты должны быть изолированными друг от друга. Они не должны зависеть от выполнения \n",
    "других тестов или общего состояния системы.\n",
    "3.\tВоспроизводимость:\n",
    "o\tТесты должны давать одинаковые результаты при каждом запуске в одной и той же среде.\n",
    "4.\tЭффективность:\n",
    "o\tТесты должны выполняться быстро, чтобы не замедлять процесс разработки и интеграции.\n",
    "5.\tПонятность:\n",
    "o\tТесты должны быть легко читаемыми и поддерживаемыми. Хорошо документированные тесты \n",
    "помогают понять, что проверяется и почему.\n",
    "6.\tПолнота:\n",
    "o\tТесты должны покрывать как положительные, так и отрицательные сценарии, а также \n",
    "граничные и крайние случаи.\n"
   ]
  },
  {
   "cell_type": "code",
   "execution_count": null,
   "id": "5988917b-f80f-4363-b792-a893945d1b73",
   "metadata": {},
   "outputs": [],
   "source": [
    "Разбор примера\n",
    "1.\tЧеткость и лаконичность:\n",
    "o\tФункция test_is_palindrome ясно показывает, что проверяется, а параметризация делает код лаконичным.\n",
    "2.\tИзоляция:\n",
    "o\tКаждый тест проверяет только один набор входных данных и ожидаемых результатов.\n",
    "3.\tВоспроизводимость:\n",
    "o\tТесты используют фиксированные входные данные и дают одинаковые результаты при каждом запуске.\n",
    "4.\tЭффективность:\n",
    "o\tПараметризация позволяет выполнять несколько тестов в одной функции, что ускоряет выполнение тестов.\n",
    "5.\tПонятность:\n",
    "o\tТесты легко читаемы благодаря параметризации и хорошему именованию переменных.\n",
    "6.\tПолнота:\n",
    "o\tТесты покрывают разные сценарии: пустая строка, однобуквенная строка, игнорирование регистра и пробелов, числа, положительные и отрицательные случаи.\n",
    "Дополнительные советы\n",
    "•\tИменование тестов: Имена тестов должны быть информативными и описывать, что именно проверяется.\n",
    "•\tСообщения об ошибках: Используйте сообщения об ошибках для пояснения, почему тест не прошел.\n",
    "•\tМодульность: Разделяйте большие тестовые наборы на более мелкие, логически связанные группы.\n",
    "•\tФикстуры: Используйте фикстуры для подготовки тестовой среды и повторно используемых данных.\n",
    "Следуя этим рекомендациям и примером, вы сможете писать качественные тесты, которые будут способствовать надежности и поддерживаемости вашего кода.\n"
   ]
  },
  {
   "cell_type": "code",
   "execution_count": null,
   "id": "1894d1c0-6ac8-4ef8-945c-8f9ec27c965b",
   "metadata": {},
   "outputs": [],
   "source": [
    "Unit Testing (Модульное тестирование)\n",
    "Что такое модульное тестирование?\n",
    "Модульное тестирование (unit testing) — это тестирование отдельных модулей или\n",
    "компонентов программы. Модульные тесты проверяют небольшие части кода, такие как функции,\n",
    "методы или классы, в изоляции от остальной системы.\n"
   ]
  },
  {
   "cell_type": "code",
   "execution_count": null,
   "id": "19a4db00-98b7-407f-970e-49bc7a26608f",
   "metadata": {},
   "outputs": [],
   "source": [
    "Преимущества модульного тестирования\n",
    "1.\tРаннее обнаружение ошибок: Ошибки выявляются на ранних стадиях разработки.\n",
    "2.\tИзоляция проблем: Тестируются отдельные компоненты, что упрощает локализацию ошибок.\n",
    "3.\tУпрощение рефакторинга: Модульные тесты позволяют безопасно вносить изменения в код.\n",
    "4.\tДокументация: Тесты служат документацией для разработчиков.\n"
   ]
  },
  {
   "cell_type": "code",
   "execution_count": null,
   "id": "cf36a165-4d4b-4596-a407-b724d5020994",
   "metadata": {},
   "outputs": [],
   "source": [
    "Integration Testing (Интеграционное тестирование)\n",
    "Что такое интеграционное тестирование?\n",
    "Интеграционное тестирование (integration testing) — это тестирование взаимодействия между различными модулями или компонентами системы. Целью интеграционного тестирования является выявление проблем, возникающих при объединении отдельных частей системы.\n",
    "Пример интеграционного теста с использованием Pytest\n"
   ]
  },
  {
   "cell_type": "code",
   "execution_count": null,
   "id": "5ee08c8d-fee3-4d97-9875-0a470f74c308",
   "metadata": {},
   "outputs": [],
   "source": [
    "Преимущества интеграционного тестирования\n",
    "1.\tПроверка взаимодействия: Выявление проблем, возникающих при интеграции различных компонентов.\n",
    "2.\tОбнаружение дефектов интерфейсов: Проверка корректности взаимодействия через интерфейсы.\n",
    "3.\tПовышение надежности системы: Убедиться, что система работает как единое целое.\n"
   ]
  }
 ],
 "metadata": {
  "kernelspec": {
   "display_name": "Python 3 (ipykernel)",
   "language": "python",
   "name": "python3"
  },
  "language_info": {
   "codemirror_mode": {
    "name": "ipython",
    "version": 3
   },
   "file_extension": ".py",
   "mimetype": "text/x-python",
   "name": "python",
   "nbconvert_exporter": "python",
   "pygments_lexer": "ipython3",
   "version": "3.12.3"
  }
 },
 "nbformat": 4,
 "nbformat_minor": 5
}
