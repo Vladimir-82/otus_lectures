{
 "cells": [
  {
   "cell_type": "code",
   "execution_count": null,
   "id": "be5688ec-c6d2-482d-a178-59e1390f7793",
   "metadata": {},
   "outputs": [],
   "source": [
    "1. Типы сокетов\n",
    "•\tStream Sockets (SOCK_STREAM): Обеспечивают надежную, ориентированную на соединение передачу\n",
    "данных с использованием протокола TCP.\n",
    "•\tDatagram Sockets (SOCK_DGRAM): Предоставляют передачу данных без установления соединения с\n",
    "использованием протокола UDP, который не гарантирует доставку пакетов.\n",
    "2. Создание и настройка сокета\n"
   ]
  },
  {
   "cell_type": "code",
   "execution_count": null,
   "id": "8c568544-f3ae-431e-ad17-20261d557765",
   "metadata": {},
   "outputs": [],
   "source": [
    "import socket\n",
    "\n",
    "s_tcp = socket.soket(socket.AF_INET, socket.SOCK_STREAM)\n",
    "s_udp = socket.soket(socket.AF_INET, socket.SOCK_DGRAM)"
   ]
  },
  {
   "cell_type": "code",
   "execution_count": null,
   "id": "45ae3e58-70f4-4caa-a62d-4019ecfc1253",
   "metadata": {},
   "outputs": [],
   "source": [
    "3. Привязка и прослушивание\n",
    "Для серверных приложений необходимо привязать сокет к адресу и порту:\n"
   ]
  },
  {
   "cell_type": "code",
   "execution_count": null,
   "id": "baef0e0b-73e7-40f8-a990-0037300b8102",
   "metadata": {},
   "outputs": [],
   "source": [
    "server_address = ('localhost', 8080)\n",
    "s_tcp.bind(server_address)\n",
    "s.listen(5)"
   ]
  },
  {
   "cell_type": "code",
   "execution_count": null,
   "id": "35fc0d2d-0256-4f50-b64a-9ef96ee20841",
   "metadata": {},
   "outputs": [],
   "source": [
    "4. Подключение к серверу\n",
    "Клиентские приложения используют метод connect для установления соединения с сервером:\n"
   ]
  },
  {
   "cell_type": "code",
   "execution_count": null,
   "id": "bae90c7d-0a77-457d-b8f8-352a9fab240a",
   "metadata": {},
   "outputs": [],
   "source": [
    "s_tcp.connect(server_address)"
   ]
  },
  {
   "cell_type": "code",
   "execution_count": null,
   "id": "bdafedc5-110f-4ef6-b827-491a5b520a08",
   "metadata": {},
   "outputs": [],
   "source": [
    "5. Прием и передача данных\n",
    "•\tОтправка данных:\n"
   ]
  },
  {
   "cell_type": "code",
   "execution_count": null,
   "id": "1b94e2e8-5040-41ae-bdff-2b4d51cae72f",
   "metadata": {},
   "outputs": [],
   "source": [
    "message = \"Hi\"\n",
    "s_tcp.sendall(message.encode('utf-8'))\n",
    "s_udp.sendto(message.encode('utf-8'), server_address)"
   ]
  },
  {
   "cell_type": "code",
   "execution_count": null,
   "id": "4ee278a7-5448-4014-bc08-4740cf458123",
   "metadata": {},
   "outputs": [],
   "source": [
    "•\tПрием данных:"
   ]
  },
  {
   "cell_type": "code",
   "execution_count": null,
   "id": "9cbd6701-0214-479f-8804-e84e70648d67",
   "metadata": {},
   "outputs": [],
   "source": [
    "data = s_tcp.recv(1024)\n",
    "s_udp.recvfrom(1024)"
   ]
  },
  {
   "cell_type": "code",
   "execution_count": null,
   "id": "ab496a1d-2d70-495e-9f88-8469d4a16cec",
   "metadata": {},
   "outputs": [],
   "source": [
    "6. Закрытие соединения\n",
    "Важно корректно закрывать сокет после завершения работы:\n"
   ]
  },
  {
   "cell_type": "code",
   "execution_count": null,
   "id": "5535ebed-01bb-4764-bbdb-e9e8aa43d372",
   "metadata": {},
   "outputs": [],
   "source": [
    "s_tcp.close()"
   ]
  },
  {
   "cell_type": "code",
   "execution_count": null,
   "id": "8fadab7a-64e0-48e3-810b-74dd7a75bbee",
   "metadata": {},
   "outputs": [],
   "source": [
    "7. Обработка исключений\n",
    "Сетевые операции подвержены различным ошибкам, поэтому рекомендуется использовать \n",
    "блоки try-except для обработки исключений:\n"
   ]
  },
  {
   "cell_type": "code",
   "execution_count": null,
   "id": "bb5f4f16-b33f-4345-b73f-d38e7a1e70ec",
   "metadata": {},
   "outputs": [],
   "source": [
    "try:\n",
    "    s = socket.socket(socket.AF_INET, socket.SOCK_STREAM)\n",
    "    s.connect(('localhost', 8080))\n",
    "    s.sendall(b'hi')\n",
    "except socket.error as e:\n",
    "    s.close()"
   ]
  },
  {
   "cell_type": "code",
   "execution_count": null,
   "id": "348a2adb-19aa-48d9-af5e-3b13476a242e",
   "metadata": {},
   "outputs": [],
   "source": [
    "8. Параллельная обработка соединений\n",
    "Для серверных приложений, чтобы одновременно обслуживать несколько клиентов, используются потоки или процессы:\n",
    "•\tПотоки:\n"
   ]
  },
  {
   "cell_type": "code",
   "execution_count": null,
   "id": "fccf9dfe-f746-4f20-92c8-664a51e12762",
   "metadata": {},
   "outputs": [],
   "source": [
    "import threading\n",
    "\n",
    "def handle_client(client_socket):\n",
    "    request = client_socket.recv(1024)\n",
    "    client_socket.close()\n",
    "\n",
    "while True:\n",
    "    client_socket, addr = s_tcp.accept()\n",
    "    client_handler = threading.Thread(target=handle_client, args=(client_socket,))\n",
    "    client_handler.start()"
   ]
  },
  {
   "cell_type": "code",
   "execution_count": null,
   "id": "f06c47ba-71e8-48a7-b3ea-d8f42ad898ad",
   "metadata": {},
   "outputs": [],
   "source": [
    "•\tПроцессы:"
   ]
  },
  {
   "cell_type": "code",
   "execution_count": null,
   "id": "67ccfb6a-c160-467e-b4f7-29b94ac98864",
   "metadata": {},
   "outputs": [],
   "source": [
    "import multiprocessing\n",
    "def handle_client(client_socket):\n",
    "    request = client_socket.recv(1024)\n",
    "    client_socket.close()\n",
    "\n",
    "while True:\n",
    "    client_socket, addr = s_tcp.accept()\n",
    "    client_handler = multiprocessing.Process(target=handle_client, args=(client_socket,))\n",
    "    client_handler.start()\n"
   ]
  },
  {
   "cell_type": "code",
   "execution_count": null,
   "id": "34d2322e-f3c7-464e-8316-02d756e1a761",
   "metadata": {},
   "outputs": [],
   "source": [
    "9. Проблемы безопасности\n",
    "•\tЗащита от атак: Ограничение числа подключений, использование брандмауэров.\n",
    "•\tШифрование: Использование SSL/TLS для шифрования данных, передаваемых по сети.\n",
    "10. Оптимизация и отладка\n",
    "•\tЛогирование: Ведение журналов для отслеживания активности и ошибок.\n",
    "•\tПрофилирование: Измерение производительности и устранение узких мест.\n"
   ]
  },
  {
   "cell_type": "code",
   "execution_count": null,
   "id": "04671d16-91e4-47aa-9a01-bde004473e8e",
   "metadata": {},
   "outputs": [],
   "source": [
    "9.1 websocket\n",
    "import asyncio\n",
    "import websockets\n",
    "\n",
    "async def echo(websocket, path):\n",
    "    try:\n",
    "        async for message in websocket:\n",
    "            print(message)\n",
    "            await websocket.send(\"echo\")\n",
    "    except websocket.exceptions.ConnectionClosed:\n",
    "        pass\n",
    "\n",
    "async def main():\n",
    "    async with websockets.serve(echo, 'localhost', 7676)\n",
    "    await asyncio.Future()\n",
    "\n",
    "asyncio.run(main())\n",
    "        \n",
    "\n",
    "\n",
    "import asyncio\n",
    "import websockets\n",
    "\n",
    "async def send_message():\n",
    "    uri = \"ws://localhost:7676\"\n",
    "\n",
    "    async with websockets.connect(url) as websocket:\n",
    "        await websocket.send(\"dgdrfg\")\n",
    "        response = await websocket.recv()\n",
    "\n",
    "asyncio.run(send_message())\n",
    "\n"
   ]
  },
  {
   "cell_type": "code",
   "execution_count": null,
   "id": "5d82ca81-2c2d-4321-b0a5-3823a782a605",
   "metadata": {},
   "outputs": [],
   "source": [
    "TCP Клиент-Сервер\n",
    "Сервер (TCP)\n"
   ]
  },
  {
   "cell_type": "code",
   "execution_count": null,
   "id": "8f190bd5-73a2-46d6-ac70-270564c4a9e4",
   "metadata": {},
   "outputs": [],
   "source": [
    "import socket\n",
    "\n",
    "server_socket = socket.socket(socket.AF_INET, socket.SOCK_STREAM)\n",
    "server_socket.bind(('localhost', 8080))\n",
    "server_socket.listen(5)\n",
    "\n",
    "while True:\n",
    "    client_socket, addr = server_socket.accept()\n",
    "    data = client_socket.recv(1024)\n",
    "    response = \"sdfg\"\n",
    "    client_socket.sendall(response.encode('utf-8'))\n",
    "    client_socket.close()\n"
   ]
  },
  {
   "cell_type": "code",
   "execution_count": null,
   "id": "18e3c36a-1336-485c-b719-5f7a47adbcd4",
   "metadata": {},
   "outputs": [],
   "source": [
    "Клиент (TCP)"
   ]
  },
  {
   "cell_type": "code",
   "execution_count": null,
   "id": "d680e331-9782-4995-9008-49ea920b82c0",
   "metadata": {},
   "outputs": [],
   "source": [
    "import socket\n",
    "\n",
    "client_socket = socket.socket(socket.AF_INET, socket.SOCK_STREAM)\n",
    "client_socket.connect(('localhost', 8080))\n",
    "res = client_socket.recv()\n",
    "client_socket.close()"
   ]
  },
  {
   "cell_type": "code",
   "execution_count": null,
   "id": "89642edf-f393-4e0f-8c22-5c0bdff54871",
   "metadata": {},
   "outputs": [],
   "source": [
    "UDP Клиент-Сервер\n",
    "Сервер (UDP)\n"
   ]
  },
  {
   "cell_type": "code",
   "execution_count": null,
   "id": "6d93c9e9-0a16-40fd-b34a-3ad509ee7ce7",
   "metadata": {},
   "outputs": [],
   "source": [
    "\n",
    "import socket\n",
    "\n",
    "server_socket = socket.socket(socket.AF_INET, socket.SOCK_STREAM)\n",
    "server_socket.bind(('localhost', 8080))\n",
    "server_socket.listen(5)\n",
    "\n",
    "while True:\n",
    "    client_socket, addr = server_socket.accept()\n",
    "    data = client_socket.recv(1024)\n",
    "    response = \"sdfg\"\n",
    "    client_socket.sendto(response.encode('utf-8'))\n",
    "    client_socket.close()"
   ]
  },
  {
   "cell_type": "code",
   "execution_count": null,
   "id": "9638fa9b-70fb-4a89-b6e1-f09fc2875690",
   "metadata": {},
   "outputs": [],
   "source": [
    "Клиент (UDP)"
   ]
  },
  {
   "cell_type": "code",
   "execution_count": null,
   "id": "0d5d9f78-caab-4680-86d7-673d52483560",
   "metadata": {},
   "outputs": [],
   "source": [
    "import socket\n",
    "\n",
    "client_socket = socket.socket(socket.AF_INET, socket.SOCK_STREAM)\n",
    "client_socket.connect(('localhost', 8080))\n",
    "message = 'sdf'\n",
    "client_socket.recvfrom(message.encode('utf-8'))\n",
    "client_socket.close()"
   ]
  },
  {
   "cell_type": "code",
   "execution_count": null,
   "id": "fa7e5d03-4ee1-4f8b-9b8e-43643391f833",
   "metadata": {},
   "outputs": [],
   "source": [
    "Ключевые отличия TCP и UDP\n",
    "•\tTCP:\n",
    "o\tОбеспечивает надежную доставку данных.\n",
    "o\tИспользует установку соединения (трехстороннее рукопожатие).\n",
    "o\tГарантирует порядок доставки пакетов.\n",
    "o\tИспользуется для приложений, где важна целостность данных (например, HTTP, FTP).\n",
    "•\tUDP:\n",
    "o\tНе требует установки соединения.\n",
    "o\tБыстрее, но не гарантирует доставку данных.\n",
    "o\tПакеты могут прийти в любом порядке.\n",
    "o\tИспользуется для приложений, где важна скорость и не критична потеря данных (например, видеоконференции, игры).\n",
    "Обе реализации имеют свои особенности и могут быть адаптированы под конкретные требования вашего приложения.\n",
    "HTTP 1.1, HTTP 2, QUIC/HTTP 3;\n",
    "HTTP (HyperText Transfer Protocol) — это основной протокол, используемый для передачи данных в вебе.\n",
    "Существует несколько версий HTTP, каждая из которых улучшала предыдущие версии, чтобы обеспечить\n",
    "лучшую производительность, безопасность и надежность. Рассмотрим HTTP 1.1, HTTP/2 и HTTP/3 (основанный на QUIC).\n",
    "HTTP 1.1\n",
    "HTTP 1.1 был введен в 1997 году как улучшение оригинального HTTP 1.0. Основные улучшения включают:\n",
    "•\tПостоянные соединения (Persistent Connections): Позволяют использовать одно TCP-соединение для \n",
    "нескольких запросов/ответов, что уменьшает накладные расходы на установку новых соединений.\n",
    "•\tЧастичные запросы (Range Requests): Позволяют клиентам запрашивать определенные части документа,\n",
    "что полезно для возобновления прерванных загрузок.\n",
    "•\tКэширование: Расширенные заголовки для управления кэшированием, такие как Cache-Control, ETag и If-Modified-Since.\n",
    "•\tСжатие заголовков: Использование заголовка Transfer-Encoding: chunked для передачи данных частями, \n",
    "что улучшает передачу больших объемов данных.\n"
   ]
  },
  {
   "cell_type": "code",
   "execution_count": null,
   "id": "57fd7baf-1629-42c9-8c5d-afd832e2837f",
   "metadata": {},
   "outputs": [],
   "source": [
    "Пример простого HTTP 1.1 запроса:"
   ]
  },
  {
   "cell_type": "code",
   "execution_count": 3,
   "id": "e9e6b86f-e445-4804-8341-60ebeaa187f8",
   "metadata": {},
   "outputs": [],
   "source": [
    "import http.client\n",
    "\n",
    "conn = http.client.HTTPConnection(\"www.test.de\")\n",
    "conn.request(\"GET\",\"/\")\n",
    "response = conn.getresponse()\n",
    "data = response.read()\n",
    "conn.close()\n",
    "\n",
    "import requests\n",
    "response = requests.get(\"http://www.test.de\")\n"
   ]
  },
  {
   "cell_type": "code",
   "execution_count": null,
   "id": "017d6200-01ed-48db-8050-93fef77f1633",
   "metadata": {},
   "outputs": [],
   "source": [
    "HTTP/2\n",
    "HTTP/2 был стандартизирован в 2015 году и включает множество улучшений по сравнению с HTTP 1.1:\n",
    "•\tБинарный протокол: HTTP/2 использует бинарный формат вместо текстового, что делает парсинг более эффективным.\n",
    "•\tМультиплексирование: Позволяет отправлять несколько запросов и ответов через одно TCP-соединение одновременно, \n",
    "что устраняет проблему блокировки «головы линии» (Head-of-Line Blocking).\n",
    "•\tСжатие заголовков (HPACK): Сокращает размер заголовков, что уменьшает накладные расходы.\n",
    "•\tПриоритеты и потоки: Клиенты могут назначать приоритеты для запросов, что позволяет серверам лучше управлять ресурсами.\n",
    "•\tСерверные пуши: Сервер может отправлять ресурсы клиенту без ожидания явного запроса, что ускоряет загрузку страниц.\n",
    "Пример простого HTTP/2 запроса:\n"
   ]
  },
  {
   "cell_type": "code",
   "execution_count": 8,
   "id": "7127b025-5f52-484a-93d8-668a5b9502c9",
   "metadata": {},
   "outputs": [],
   "source": [
    "import httpx\n",
    "import asyncio\n",
    "import nest_asyncio\n",
    "\n",
    "nest_asyncio.apply()\n",
    "\n",
    "async def main():\n",
    "    try:\n",
    "        async with httpx.AsyncClient(http2=True) as client:\n",
    "            response = await client.get(\"https://www.test.de\")\n",
    "            print(response.status_code)\n",
    "            print(response.text)\n",
    "    except httpx.RequestError as exc:\n",
    "        print(\"error\")\n",
    "\n",
    "await main()\n",
    "\n"
   ]
  },
  {
   "cell_type": "code",
   "execution_count": null,
   "id": "3045e974-862d-4ae1-8ea0-951c9cfab69a",
   "metadata": {},
   "outputs": [],
   "source": [
    "HTTP/3 (QUIC)\n",
    "HTTP/3 основан на протоколе QUIC, который был разработан Google и использует UDP вместо TCP. Основные особенности:\n",
    "•\tБыстрое установление соединения: QUIC объединяет установление соединения и шифрование TLS \n",
    "в один шаг, что значительно ускоряет время установления соединения.\n",
    "•\tУстранение проблемы блокировки «головы линии»: Поскольку QUIC использует UDP, он не страдает от\n",
    "блокировки «головы линии» на уровне транспортного протокола.\n",
    "•\tВстроенное шифрование: QUIC всегда зашифрован, что улучшает безопасность.\n",
    "•\tМиграция соединений: QUIC поддерживает изменение IP-адресов и портов, что полезно для мобильных \n",
    "пользователей, переходящих между сетями.\n"
   ]
  },
  {
   "cell_type": "code",
   "execution_count": null,
   "id": "3559c46b-58d1-4b0e-bada-ef709c80746a",
   "metadata": {},
   "outputs": [],
   "source": [
    "Пример простого HTTP/3 запроса аналогичен HTTP/2 с использованием QUIC:"
   ]
  },
  {
   "cell_type": "code",
   "execution_count": null,
   "id": "60c61d49-63b5-45fb-816d-f1d8c5132819",
   "metadata": {},
   "outputs": [],
   "source": [
    "| **Характеристика**        | **HTTP 1.1**                     | **HTTP/2**                      | **HTTP/3 (QUIC)**              |\n",
    "|---------------------------|----------------------------------|---------------------------------|--------------------------------|\n",
    "| **Транспортный протокол** | TCP                              | TCP                             | QUIC                           |\n",
    "| **Мультиплексирование**   | Нет                              | Да                              | Да                             |\n",
    "| **Сжатие заголовков**     | Нет                              | HPACK                           | QPACK                          |\n",
    "| **Поддержка потоков**     | Нет                              | Да                              | Да                             |\n",
    "| **Очередь запросов**      | \"Head-of-line\" блокировка        | Нет                             | Нет                            |\n",
    "| **Безопасность**          | TLS (отдельно)                   | TLS (встроено)                  | TLS 1.3 (встроено)             |\n",
    "| **Эффективность**         | Более низкая                     | Более высокая                   | Высокая                        |\n",
    "| **Поддержка приоритета**  | Нет                              | Да                              | Да                             |\n",
    "| **Время установления**    | Дольше (TCP + TLS handshake)     | Дольше (TCP + TLS handshake)    | Быстрее (объединенный handshake) |\n",
    "| **Совместимость**         | Широко поддерживается            | Широко поддерживается           | Требуется поддержка сервером   |\n",
    "| **Основное использование**| Традиционные веб-страницы        | Более сложные веб-приложения    | Высокопроизводительные веб-приложения |"
   ]
  },
  {
   "cell_type": "code",
   "execution_count": null,
   "id": "4d74dc6f-92f2-4908-91de-20d48b1e508b",
   "metadata": {},
   "outputs": [],
   "source": [
    "WebSockets — это протокол связи, предоставляющий каналы полного дуплекса по единому TCP-соединению.\n",
    "Он предназначен для использования в веб-приложениях для облегчения взаимодействия в реальном времени\n",
    "    между клиентом и сервером. WebSockets позволяют открывать постоянные соединения между сервером и\n",
    "    клиентом, что позволяет обоим сторонам отправлять данные в любое время.\n",
    "Основные особенности WebSockets:\n",
    "•\tПолный дуплекс: Оба конца соединения (клиент и сервер) могут отправлять данные одновременно.\n",
    "•\tМеньшие накладные расходы: После установления соединения WebSocket, данные могут передаваться \n",
    "    с меньшими накладными расходами по сравнению с HTTP.\n",
    "•\tПоддержка событий: Обеспечивает простое и эффективное управление событиями.\n",
    "Пример реализации WebSocket сервера и клиента\n"
   ]
  },
  {
   "cell_type": "code",
   "execution_count": null,
   "id": "b1c4750c-847b-4278-9e1e-6e416e349a57",
   "metadata": {},
   "outputs": [],
   "source": [
    "\n",
    "import asyncio\n",
    "import websockets\n",
    "\n",
    "async def echo(websocket, path):\n",
    "    try:\n",
    "        async for message in websocket:\n",
    "            print(message)\n",
    "            await websocket.send(\"echo\")\n",
    "    except websocket.exceptions.ConnectionClosed:\n",
    "        pass\n",
    "\n",
    "async def main():\n",
    "    async with websockets.serve(echo, 'localhost', 7676)\n",
    "    await asyncio.Future()\n",
    "\n",
    "asyncio.run(main())\n",
    "        \n",
    "\n",
    "\n",
    "import asyncio\n",
    "import websockets\n",
    "\n",
    "async def send_message():\n",
    "    uri = \"ws://localhost:7676\"\n",
    "\n",
    "    async with websockets.connect(url) as websocket:\n",
    "        await websocket.send(\"dgdrfg\")\n",
    "        response = await websocket.recv()\n",
    "\n",
    "asyncio.run(send_message())\n"
   ]
  },
  {
   "cell_type": "code",
   "execution_count": null,
   "id": "9b16d119-8d73-4149-bf0f-f1fba86c87d3",
   "metadata": {},
   "outputs": [],
   "source": [
    "Преимущества использования WebSockets\n",
    "•\tМгновенное взаимодействие: WebSockets идеально подходят для приложений, где требуется \n",
    "взаимодействие в реальном времени, например, чаты, онлайн-игры, финансовые панели.\n",
    "•\tЭкономия ресурсов: После установления соединения WebSocket, обе стороны могут обмениваться данными \n",
    "без повторных запросов HTTP, что экономит ресурсы и уменьшает задержки.\n",
    "•\tПростота использования: Поддерживается большинством современных веб-браузеров и серверных технологий.\n",
    "Недостатки и проблемы\n",
    "•\tСовместимость с устаревшими системами: Некоторые старые системы и прокси-серверы могут не поддерживать WebSockets.\n",
    "•\tБезопасность: Постоянные соединения могут быть уязвимы для атак, таких как DoS. Важно внедрять меры \n",
    "безопасности, такие как проверка подлинности и шифрование.\n",
    "•\tОграничения сети: Некоторые корпоративные сети и брандмауэры могут блокировать WebSocket соединения.\n"
   ]
  },
  {
   "cell_type": "code",
   "execution_count": null,
   "id": "f12eeae7-8b60-4454-a1ba-67f61a8d1ccd",
   "metadata": {},
   "outputs": [],
   "source": [
    "HTTP клиент на Python с использованием requests"
   ]
  },
  {
   "cell_type": "code",
   "execution_count": null,
   "id": "873b0ba7-d38e-42a4-99d5-ff69e2718b5f",
   "metadata": {},
   "outputs": [],
   "source": [
    "\n",
    "    \n"
   ]
  },
  {
   "cell_type": "code",
   "execution_count": null,
   "id": "50958bb6-8687-450c-a42d-b3bca37e905c",
   "metadata": {},
   "outputs": [],
   "source": [
    "Архитектура веб-серверов может сильно различаться в зависимости от требований к производительности, \n",
    "масштабируемости, надежности и гибкости. Рассмотрим основные виды архитектур веб-серверов:\n",
    "1. Однопоточная архитектура (Single-threaded)\n",
    "В однопоточной архитектуре сервер обрабатывает все запросы последовательно, один за другим.\n",
    "Преимущества:\n",
    "•\tПростота реализации и отладки.\n",
    "•\tПодходит для простых приложений с низкой нагрузкой.\n",
    "Недостатки:\n",
    "•\tНизкая производительность при высокой нагрузке.\n",
    "•\tНепригодна для обработки большого количества одновременных запросов.\n",
    "2. Многопоточная архитектура (Multi-threaded)\n",
    "В многопоточной архитектуре сервер создает новый поток для каждого входящего запроса.\n",
    "Преимущества:\n",
    "•\tУлучшенная производительность по сравнению с однопоточной архитектурой.\n",
    "•\tВозможность обработки большого количества одновременных запросов.\n",
    "Недостатки:\n",
    "•\tУвеличенные накладные расходы на создание и управление потоками.\n",
    "•\tПотенциальные проблемы с безопасностью и управлением памятью.\n",
    "3. Асинхронная архитектура (Asynchronous)\n",
    "В асинхронной архитектуре сервер использует неблокирующие операции ввода-вывода и событи\n",
    "я для обработки запросов, что позволяет одному потоку обрабатывать множество запросов.\n",
    "Преимущества:\n",
    "•\tВысокая производительность и масштабируемость.\n",
    "•\tЭффективное использование ресурсов.\n",
    "Недостатки:\n",
    "•\tСложность реализации и отладки.\n",
    "•\tВозможные проблемы с управлением состояниями и синхронизацией.\n",
    "4. Архитектура с использованием процессов (Process-based)\n",
    "В такой архитектуре сервер создает новый процесс для каждого запроса. Это обеспечивает полную изоляцию запросов друг от друга.\n",
    "Преимущества:\n",
    "•\tХорошая изоляция и безопасность между запросами.\n",
    "•\tСтабильность и отказоустойчивость.\n",
    "Недостатки:\n",
    "•\tВысокие накладные расходы на создание процессов.\n",
    "•\tОграниченная производительность по сравнению с потоками и асинхронными моделями.\n",
    "5. Архитектура на основе событий (Event-driven)\n",
    "Сервер обрабатывает запросы с использованием цикла событий, реагируя на события и вызовы обратных функций.\n",
    "Преимущества:\n",
    "•\tВысокая производительность и масштабируемость.\n",
    "•\tЭффективное использование ресурсов.\n",
    "Недостатки:\n",
    "•\tСложность реализации и отладки.\n",
    "•\tМеньшая гибкость по сравнению с многопоточными моделями.\n",
    "6. Микросервисная архитектура (Microservices)\n",
    "В микросервисной архитектуре приложение разбито на множество мелких, независимых сервисов, каждый из которых выполняет свою задачу.\n",
    "Преимущества:\n",
    "•\tВысокая гибкость и масштабируемость.\n",
    "•\tЛегкость в обновлении и развертывании отдельных компонентов.\n",
    "•\tУлучшенная отказоустойчивость.\n",
    "Недостатки:\n",
    "•\tУсложнение управления и координации между сервисами.\n",
    "•\tПотенциальные накладные расходы на межсервисное взаимодействие.\n",
    "7. Архитектура с балансировкой нагрузки (Load Balanced)\n",
    "В такой архитектуре используется один или несколько балансировщиков нагрузки для распределения запросов между несколькими серверами.\n",
    "Преимущества:\n",
    "•\tВысокая масштабируемость и отказоустойчивость.\n",
    "•\tЭффективное распределение нагрузки.\n",
    "Недостатки:\n",
    "•\tСложность настройки и управления.\n",
    "•\tНеобходимость дополнительных ресурсов для балансировки нагрузки.\n",
    "8. Serverless (безсерверная) архитектура\n",
    "В безсерверной архитектуре разработчики пишут функции, которые развертываются в облаке и \n",
    "вызываются по запросу, при этом управление серверами полностью передается провайдеру облачных услуг.\n",
    "Преимущества:\n",
    "•\tВысокая масштабируемость.\n",
    "•\tОтсутствие необходимости управления серверами.\n",
    "•\tОплата только за фактическое использование ресурсов.\n",
    "Недостатки:\n",
    "•\tОграничения по времени выполнения и объему ресурсов.\n",
    "•\tЗависимость от конкретного провайдера облачных услуг.\n"
   ]
  },
  {
   "cell_type": "code",
   "execution_count": null,
   "id": "173a5824-b271-4e17-89b0-b4142f6517ce",
   "metadata": {},
   "outputs": [],
   "source": [
    "#async serer, client\n",
    "#1. server\n",
    "\n",
    "import asyncio\n",
    "async def handle_client(reader, writer):\n",
    "    while True:\n",
    "        data = await reader.read(100)\n",
    "        if not data:\n",
    "            break\n",
    "        message = data.decode()\n",
    "        response = \"response\"\n",
    "        writer.write(response.encode())\n",
    "        await writer.drain()\n",
    "    write.close()\n",
    "    await writer.wait_closed()\n",
    "\n",
    "\n",
    "async def main():\n",
    "    server = await asyncio.start_server(handle_client, 'localhost', 8080)\n",
    "    addr = server.sockets[0].getsockname()\n",
    "    print(f\"server is listening on {addr}\")\n",
    "\n",
    "    async with server:\n",
    "        await server.server_forever()\n",
    "\n",
    "asyncio.run(main())\n",
    "\n",
    "\n",
    "#2. client\n",
    "import asyncio\n",
    "\n",
    "async def tcp_client(message):\n",
    "    reader, writer = await asyncio.open_connection('lcoalhost', 8080)\n",
    "\n",
    "    writer.write(message.encode())\n",
    "    await writer.drain()\n",
    "\n",
    "    data = await reader.read(100)\n",
    "    writer.close()\n",
    "    await writer.wait_closed()\n",
    "\n",
    "message = \"segd\"\n",
    "asyncio.run(tcp_client(message))\n",
    "\n"
   ]
  },
  {
   "cell_type": "code",
   "execution_count": null,
   "id": "2bc63cf4-e656-4b5a-a34b-56092e11f404",
   "metadata": {},
   "outputs": [],
   "source": [
    "ДЗ, шаблон"
   ]
  },
  {
   "cell_type": "code",
   "execution_count": null,
   "id": "079f379f-1280-49d4-b2f7-b3cb355332d5",
   "metadata": {},
   "outputs": [],
   "source": [
    "import socket\n",
    "import threading\n",
    "import os\n",
    "\n",
    "HOST = \"localhost\"\n",
    "PORT = 8080\n",
    "DOCUMENT_ROOT='./www'\n",
    "def handle_request(client_socket):\n",
    "    try:\n",
    "        # 1. get request\n",
    "        # 2. get hedares\n",
    "        # 3. split headers to methoods\n",
    "        # 4. give back response\n",
    "        if method in ['GET', 'HEAD']:\n",
    "            #create response ans send it back\n",
    "            return\n",
    "    finally:\n",
    "        client_socket.close()\n",
    "\n",
    "def start_server():\n",
    "    #1. create socket\n",
    "    #2. bind socket to address and port\n",
    "    #3. in while loop create threads with fucntion for handle_request\n",
    "\n",
    "if __name__ == \"__main__\":\n",
    "    start_server()\n",
    "\n",
    "sh ab -n 1000 -c 10 http://localhost:8080/index.html\n",
    "wrk -t12 -c400 -d30s http://localhost:8080/index.html\n",
    "    "
   ]
  }
 ],
 "metadata": {
  "kernelspec": {
   "display_name": "Python 3 (ipykernel)",
   "language": "python",
   "name": "python3"
  },
  "language_info": {
   "codemirror_mode": {
    "name": "ipython",
    "version": 3
   },
   "file_extension": ".py",
   "mimetype": "text/x-python",
   "name": "python",
   "nbconvert_exporter": "python",
   "pygments_lexer": "ipython3",
   "version": "3.10.12"
  }
 },
 "nbformat": 4,
 "nbformat_minor": 5
}
