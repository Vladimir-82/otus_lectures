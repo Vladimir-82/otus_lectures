{
 "cells": [
  {
   "cell_type": "markdown",
   "id": "e43fedd1-819f-4d62-bf75-721c2b054a8f",
   "metadata": {},
   "source": [
    "<b>Конкурентность</b>\n",
    "Конкурентность относится к способности программы выполнять несколько задач \n",
    "параллельно, но не обязательно одновременно. \n",
    "В Python конкурентность часто реализуется с помощью потоков (threads) или асинхронного программирования (asyncio).\n",
    "\n",
    "<b>Потоки (Threads)</b>\n",
    "Модуль threading позволяет запускать несколько потоков внутри одного процесса. \n",
    "Это удобно для задач, связанных с вводом-выводом \n",
    "(I/O-bound), таких как работа с файлами, сетевыми запросами и т.д.\n",
    "\n",
    "Пример использования потоков:"
   ]
  },
  {
   "cell_type": "code",
   "execution_count": 2,
   "id": "90df758e-434f-4bab-80a4-470fddbf0e83",
   "metadata": {},
   "outputs": [
    {
     "name": "stdout",
     "output_type": "stream",
     "text": [
      "thread Thread-0 start to workthread Thread-1 start to work\n",
      "\n",
      "thread Thread-2 start to work\n",
      "thread Thread-1 stop to work\n",
      "thread Thread-0 stop to work\n",
      "thread Thread-2 stop to work\n"
     ]
    }
   ],
   "source": [
    "import threading\n",
    "import time\n",
    "\n",
    "def worker(name):\n",
    "    print(f'thread {name} start to work')\n",
    "    time.sleep(2)\n",
    "    print(f'thread {name} stop to work')\n",
    "\n",
    "threads = []\n",
    "for i in range(3):\n",
    "    t = threading.Thread(target=worker, args=(f'Thread-{i}', ))\n",
    "    threads.append(t)\n",
    "    t.start()\n",
    "\n",
    "for t in threads:\n",
    "    t.join()"
   ]
  },
  {
   "cell_type": "code",
   "execution_count": null,
   "id": "6979df27-de4e-4215-9638-3db9e9b28338",
   "metadata": {},
   "outputs": [],
   "source": [
    "Особенности:\n",
    "\n",
    "Потоки делят одно пространство памяти, что облегчает обмен данными между ними.\n",
    "Из-за GIL (см. ниже) потоки в Python не обеспечивают истинного параллелизма для задач, требующих \n",
    "    интенсивных вычислений."
   ]
  },
  {
   "cell_type": "markdown",
   "id": "1c9afdc4-b2ae-4151-80f3-71b0231d4f1e",
   "metadata": {},
   "source": [
    "<b>Асинхронное программирование (asyncio)</b>\n",
    "Модуль asyncio позволяет писать асинхронный код, который может эффективно управлять большим количеством \n",
    "задач ввода-вывода без \n",
    "необходимости создавать отдельные потоки или процессы.\n",
    "\n",
    "Пример использования asyncio:"
   ]
  },
  {
   "cell_type": "code",
   "execution_count": 5,
   "id": "1b4d94f3-e384-4e6e-a96a-f60bacac048a",
   "metadata": {},
   "outputs": [
    {
     "name": "stdout",
     "output_type": "stream",
     "text": [
      "thread Thread-0 start to work\n",
      "thread Thread-0 stop to work\n",
      "thread Thread-1 start to work\n",
      "thread Thread-1 stop to work\n",
      "thread Thread-2 start to work\n",
      "thread Thread-2 stop to work\n"
     ]
    }
   ],
   "source": [
    "import asyncio\n",
    "async def worker(name):\n",
    "    print(f'thread {name} start to work')\n",
    "    time.sleep(2)\n",
    "    print(f'thread {name} stop to work')\n",
    "\n",
    "async def main():\n",
    "    tasks = [worker(f'Thread-{i}') for i in range(3)]\n",
    "    await asyncio.gather(*tasks)\n",
    "\n",
    "#if __name__ == \"__main__\":\n",
    "#    asyncio.run(main())\n",
    "await(main())\n",
    "\n",
    "\n",
    "    "
   ]
  },
  {
   "cell_type": "markdown",
   "id": "d2365885-6511-461f-bd18-c5bac462fc4e",
   "metadata": {},
   "source": [
    "<b>Параллелизм</b>\n",
    "Параллелизм подразумевает одновременное выполнение нескольких задач на разных ядрах процессора. \n",
    "В Python параллелизм достигается\n",
    "с помощью процессов, поскольку каждый процесс имеет свой собственный интерпретатор и память, обходя ограничения GIL.\n",
    "\n",
    "Многопроцессность (Multiprocessing)\n",
    "Модуль multiprocessing позволяет создавать отдельные процессы, которые могут выполняться параллельно\n",
    "на разных ядрах.\n",
    "\n",
    "Пример использования multiprocessing:"
   ]
  },
  {
   "cell_type": "code",
   "execution_count": 5,
   "id": "c04c1d1b-472a-4a9e-8c6f-be5591b68461",
   "metadata": {},
   "outputs": [],
   "source": [
    "from multiprocessing import Process\n",
    "import time\n",
    "\n",
    "def worker(name):\n",
    "    print(f'process {name} start to work')\n",
    "    time.sleep(2)\n",
    "    print(f'process {name} stop to work')\n",
    "\n",
    "processes = []\n",
    "for i in range(3):\n",
    "    p = Process(target = worker, args=(\"dfgb\"))\n",
    "    processes.append(p)\n",
    "    p.start()\n",
    "\n",
    "for p in processes:\n",
    "    p.join()"
   ]
  },
  {
   "cell_type": "markdown",
   "id": "6e6b17fb-5f8a-4c59-a269-f08b91ccff9a",
   "metadata": {},
   "source": [
    "<b>Глобальная блокировка интерпретатора (GIL)</b>\n",
    "Одной из ключевых особенностей Python (особенно CPython) является GIL — механизм, который предотвращает \n",
    "одновременное выполнение нескольких потоков байт-кода Python. Это означает, что даже если у вас несколько потоков, только один из них выполняется \n",
    "в каждый момент времени. GIL ограничивает эффективность многопоточных программ для CPU-bound задач, но не влияет на I/O-bound задачи.\n",
    "\n",
    "Влияние GIL:\n",
    "\n",
    "I/O-bound задачи: Потоки все равно могут быть полезны, так как большая часть времени тратится на ожидание ввода-вывода.\n",
    "CPU-bound задачи: Для повышения производительности лучше использовать многопроцессность.\n",
    "Выбор между конкурентностью и параллелизмом\n",
    "I/O-bound задачи: Рекомендуется использовать многопоточность (threading) или асинхронное программирование (asyncio).\n",
    "CPU-bound задачи: Рекомендуется использовать многопроцессность (multiprocessing)."
   ]
  },
  {
   "cell_type": "markdown",
   "id": "7ea538b4-bca3-48b8-b67a-f347e146df9e",
   "metadata": {},
   "source": [
    "<b>I/O-bound и CPU-bound задачи в Python</b>\n",
    "В программировании задачи часто классифицируют как I/O-bound (зависимые от ввода-вывода) или CPU-bound (зависимые от процессора). \n",
    "Понимание различий между ними критично для выбора подходящих инструментов и методов оптимизации в Python.\n",
    "\n",
    "I/O-bound задачи\n",
    "I/O-bound задачи — это те, которые ограничены скоростью операций ввода-вывода. Такие задачи проводят большую часть времени в ожидании \n",
    "завершения операций чтения/записи данных, сетевых запросов, работы с файлами и т.д.\n",
    "\n",
    "<b>Примеры I/O-bound задач:</b>\n",
    "\n",
    "Обработка сетевых запросов (например, веб-серверы)\n",
    "Чтение и запись файлов на диск\n",
    "Взаимодействие с базами данных\n",
    "Ожидание ответов от внешних API\n",
    "Особенности:\n",
    "\n",
    "Время выполнения задачи определяется временем ожидания операций ввода-вывода.\n",
    "Такие задачи могут эффективно использовать конкурентные подходы, такие как многопоточность или асинхронное программирование, для улучшения производительности.\n",
    "Пример использования asyncio для I/O-bound задачи:"
   ]
  },
  {
   "cell_type": "code",
   "execution_count": null,
   "id": "4b198ab2-540f-4273-adc6-5484a5920af0",
   "metadata": {},
   "outputs": [],
   "source": []
  },
  {
   "cell_type": "markdown",
   "id": "377765cf-9121-4b3e-b03e-c61ecadbbbcc",
   "metadata": {},
   "source": [
    "<b>CPU-bound задачи</b>\n",
    "CPU-bound задачи — это задачи, которые требуют интенсивных вычислений и максимально используют возможности процессора. \n",
    "Время выполнения таких задач определяется скоростью обработки данных процессором.\n",
    "\n",
    "Примеры CPU-bound задач:\n",
    "\n",
    "Обработка изображений и видео\n",
    "Криптографические вычисления\n",
    "Машинное обучение и научные вычисления\n",
    "Сложные математические расчёты\n",
    "Особенности:\n",
    "\n",
    "Такие задачи требуют эффективного использования процессорных ресурсов.\n",
    "Для повышения производительности лучше использовать параллелизм, например, многопроцессность, \n",
    "чтобы задействовать несколько ядер процессора.\n"
   ]
  },
  {
   "cell_type": "code",
   "execution_count": null,
   "id": "1e742411-9926-479f-a0f7-3b62c0a21d6b",
   "metadata": {},
   "outputs": [],
   "source": [
    "import asyncio\n",
    "import aiohttp\n",
    "\n",
    "async def fetch_url(session, url):\n",
    "    async with session.get(url) as response:\n",
    "        return await response.text()\n",
    "\n",
    "async def main():\n",
    "    urls = [\n",
    "        ..,\n",
    "        ...,\n",
    "        ...\n",
    "    ]\n",
    "\n",
    "    async with aiohttp.ClientSession() as session:\n",
    "        tasks = [fetch_url(session, url) for url in urls]\n",
    "        content = await asyncio.gather(*tasks)\n",
    "        for content in contents:\n",
    "            print(...)\n",
    "\n",
    "if __name__ == \"__main__\":\n",
    "    asyncio.run(main())\n",
    "\n"
   ]
  },
  {
   "attachments": {
    "c5b9dc42-7480-4661-b0f7-79e42ec542b7.png": {
     "image/png": "[encoded data removed]"
    }
   },
   "cell_type": "markdown",
   "id": "3c502713-e948-4367-a2ed-225fe9c9897f",
   "metadata": {},
   "source": [
    "![image.png](attachment:c5b9dc42-7480-4661-b0f7-79e42ec542b7.png)"
   ]
  },
  {
   "cell_type": "markdown",
   "id": "beb707fa-afc2-431b-9e32-15f9cd1fe76d",
   "metadata": {},
   "source": [
    "<b>Влияние GIL на выбор подхода</b>\n",
    "GIL (Global Interpreter Lock) в CPython ограничивает выполнение байт-кода Python одним потоком одновременно. \n",
    "Это означает, что многопоточность \n",
    "не может эффективно использовать несколько ядер процессора для CPU-bound задач. Поэтому для таких задач \n",
    "предпочтительнее использовать многопроцессность.\n",
    "\n",
    "Однако для I/O-bound задач GIL не является серьезным ограничением, поскольку большая часть времени \n",
    "тратится на ожидание ввода-вывода,\n",
    "и другие потоки могут выполняться во время этого ожидания."
   ]
  },
  {
   "cell_type": "code",
   "execution_count": null,
   "id": "cab7c93b-04dc-4263-8b3c-edc734e7d47a",
   "metadata": {},
   "outputs": [],
   "source": [
    "from multiprocessing import Pool\n",
    "import math\n",
    "\n",
    "def compute_factorial(n):\n",
    "    return math.factorial(n)\n",
    "\n",
    "if __name__ == '__main__':\n",
    "    numbers = [100,200,300]\n",
    "    with Pool(processes=3) as pool:\n",
    "        results = pool.map(compute_factorial, numbers)\n",
    "    for num, fuct in  zip(numbers, results):\n",
    "        print(...)\n"
   ]
  },
  {
   "cell_type": "markdown",
   "id": "eb1e2abb-c2b2-4fb4-863c-465ad2294212",
   "metadata": {},
   "source": [
    "<b>Запуск потоков и использование блокировок в Python</b>\n",
    "В Python модуль threading предоставляет инструменты для работы с потоками и управления синхронизацией между ними.\n",
    "В этом разделе мы рассмотрим, как запускать потоки, использовать блокировки (Locks) для предотвращения гонок данных и \n",
    "управлять доступом к разделяемым ресурсам.\n",
    "\n",
    "Запуск потоков\n",
    "Для создания и запуска потоков в Python используется класс Thread из модуля threading. Каждый поток выполняет \n",
    "определенную функцию или метод."
   ]
  },
  {
   "cell_type": "markdown",
   "id": "ab88a9f2-fce8-4778-a4f1-4e509b6af167",
   "metadata": {},
   "source": [
    "<b>Блокировки (Locks)</b>\n",
    "При работе с несколькими потоками важно контролировать доступ к разделяемым ресурсам\n",
    "(например, переменным, файлам, базам данных), \n",
    "чтобы избежать гонок данных (race conditions). Для этого используются блокировки.\n",
    "\n",
    "Пример использования Lock для предотвращения гонок данных:"
   ]
  },
  {
   "cell_type": "code",
   "execution_count": null,
   "id": "abb78938-0019-4cf9-b775-8aa29f29cb43",
   "metadata": {},
   "outputs": [],
   "source": [
    "import threading\n",
    "counter = 0\n",
    "\n",
    "lock = threading.Lock()\n",
    "\n",
    "def inc():\n",
    "    global counter\n",
    "    for _ in range(10000):\n",
    "        with lock:\n",
    "            counter += 1\n",
    "#        lock.acquire()\n",
    "#        try:\n",
    "#            counter += 1\n",
    "#        finally:\n",
    "#            lock.release()\n",
    "\n",
    "thread1 = threading.Thread(target=inc)\n",
    "thread2 = threading.Thread(target=inc)\n",
    "\n",
    "thread1.start()\n",
    "thread2.start()\n",
    "\n",
    "thread1.join()\n",
    "thread2.join()\n",
    "            \n",
    "\n",
    "\n"
   ]
  },
  {
   "cell_type": "code",
   "execution_count": null,
   "id": "776a12e5-0c98-4a0a-9641-81fd609d1ff1",
   "metadata": {},
   "outputs": [],
   "source": [
    "Использование контекстного менеджера with для работы с блокировками:\n",
    "\n",
    "Блокировки можно использовать с помощью контекстного менеджера with, что делает код более читаемым и безопасным."
   ]
  },
  {
   "cell_type": "code",
   "execution_count": null,
   "id": "0fe844e4-ea65-4e57-8420-793bfa613c8b",
   "metadata": {},
   "outputs": [],
   "source": []
  },
  {
   "cell_type": "markdown",
   "id": "c12ce574-ffb6-4a0f-a62b-354ec6ba38be",
   "metadata": {},
   "source": [
    "<b>Другие механизмы синхронизации</b>\n",
    "Помимо Lock, модуль threading предоставляет другие инструменты для синхронизации потоков:\n",
    "\n",
    "RLock (Reentrant Lock): Позволяет одному и тому же потоку несколько раз захватывать блокировку без блокировки самого себя."
   ]
  },
  {
   "cell_type": "code",
   "execution_count": 6,
   "id": "4e688737-8acf-475c-9011-731a8744d850",
   "metadata": {},
   "outputs": [
    {
     "ename": "NameError",
     "evalue": "name 'threding' is not defined",
     "output_type": "error",
     "traceback": [
      "\u001b[1;31m---------------------------------------------------------------------------\u001b[0m",
      "\u001b[1;31mNameError\u001b[0m                                 Traceback (most recent call last)",
      "Cell \u001b[1;32mIn[6], line 9\u001b[0m\n\u001b[0;32m      6\u001b[0m         \u001b[38;5;28;01mif\u001b[39;00m n\u001b[38;5;241m>\u001b[39m\u001b[38;5;241m0\u001b[39m:\n\u001b[0;32m      7\u001b[0m             recursive_function(n\u001b[38;5;241m-\u001b[39m\u001b[38;5;241m1\u001b[39m)\n\u001b[1;32m----> 9\u001b[0m thread \u001b[38;5;241m=\u001b[39m threding\u001b[38;5;241m.\u001b[39mThread(target \u001b[38;5;241m=\u001b[39m recursive_function, args\u001b[38;5;241m=\u001b[39m(\u001b[38;5;241m3\u001b[39m,))\n\u001b[0;32m     10\u001b[0m thread\u001b[38;5;241m.\u001b[39mstart()\n\u001b[0;32m     11\u001b[0m thread\u001b[38;5;241m.\u001b[39mjoin()\n",
      "\u001b[1;31mNameError\u001b[0m: name 'threding' is not defined"
     ]
    }
   ],
   "source": [
    "import threading\n",
    "rlock = threading.RLock()\n",
    "\n",
    "def recursive_function(n):\n",
    "    with rlock:\n",
    "        if n>0:\n",
    "            recursive_function(n-1)\n",
    "\n",
    "thread = threding.Thread(target = recursive_function, args=(3,))\n",
    "thread.start()\n",
    "thread.join()\n"
   ]
  },
  {
   "cell_type": "markdown",
   "id": "36fe1e03-52e5-4498-9ce8-9293b5f063b6",
   "metadata": {},
   "source": [
    "<b>Semaphore: Ограничивает количество потоков, которые могут одновременно выполнять определенный блок кода.</b>"
   ]
  },
  {
   "cell_type": "code",
   "execution_count": null,
   "id": "d1995a23-c847-41d4-96fe-49cf3146d0d1",
   "metadata": {},
   "outputs": [],
   "source": [
    "import threading\n",
    "import time\n",
    "\n",
    "semaphore = threading.Semaphore(2)\n",
    "\n",
    "def worker(name):\n",
    "    with semaphore:\n",
    "        print(\"1111\")\n",
    "        time.sleep(2)\n",
    "        print(\"2222\")\n",
    "\n",
    "threads = []\n",
    "for i in range(5):\n",
    "    t = threading.Thread(target=worker, args=(\"fffff\",))\n",
    "    threads.append(t)\n",
    "    t.start()\n",
    "\n",
    "for t in threads:\n",
    "    t.join()\n",
    "\n",
    "print(\"sdf\")\n"
   ]
  },
  {
   "cell_type": "markdown",
   "id": "78d62b2b-b9e7-445d-8205-78336f99ab1e",
   "metadata": {},
   "source": [
    "<b>Event: Позволяет одному потоку сигнализировать другим о наступлении определенного события.</b>"
   ]
  },
  {
   "cell_type": "code",
   "execution_count": null,
   "id": "6aabaf92-8b7d-487d-8a3f-fba66e979f55",
   "metadata": {},
   "outputs": [],
   "source": [
    "import threading\n",
    "import time\n",
    "\n",
    "\n",
    "event = threading.Event()\n",
    "\n",
    "def waiter():\n",
    "    event.wait()\n",
    "\n",
    "def setter():\n",
    "    time.sleep(3)\n",
    "    event.set()\n",
    "\n",
    "thread_wait = threading.Thread(target = waiter)\n",
    "thread_set = threading.Thread(target = setter)\n",
    "\n",
    "thread_wait.start()\n",
    "thread_set.start()\n",
    "thread_wait.join()\n",
    "thread_set.join()\n",
    "\n",
    "\n"
   ]
  },
  {
   "cell_type": "markdown",
   "id": "e206777b-6da2-46eb-b832-982b4244fddf",
   "metadata": {},
   "source": [
    "<b>Избежание взаимоблокировок (Deadlocks)</b>\n",
    "Взаимоблокировка происходит, когда два или более потоков ожидают друг друга,\n",
    "и ни один не может продолжить выполнение. Чтобы избежать взаимоблокировок:\n",
    "\n",
    "Последовательность захвата блокировок: Всегда захватывайте блокировки в одном и том же порядке во всех потоках.\n",
    "\n",
    "Использование таймаутов: При попытке захватить блокировку можно установить таймаут, \n",
    "чтобы избежать бесконечного ожидания."
   ]
  },
  {
   "cell_type": "code",
   "execution_count": null,
   "id": "00e89f65-5b1c-4f5e-a609-11267311e53f",
   "metadata": {},
   "outputs": [],
   "source": [
    "import threading\n",
    "import time\n",
    "\n",
    "\n",
    "lock1 = threading.Lock()\n",
    "lock2 = threading.Lock()\n",
    "\n",
    "def thread1_func():\n",
    "    while True:\n",
    "        acquired1 = lock1.acquire(timeout=1)\n",
    "        if acquired1:\n",
    "            time.sleep(0.5)\n",
    "            acquired2 = lock2.acquire(timeout=1)\n",
    "            if acquired2:\n",
    "                print(\"sdf\")\n",
    "                lock2.release()\n",
    "            lock1.release()\n",
    "            break\n",
    "        else:\n",
    "            print(\"sdgsdg\")\n",
    "\n",
    "def thread2_func():\n",
    "    while True:\n",
    "        acquired2 = lock2.acquire(timeout=1)\n",
    "        if acquired2:\n",
    "            time.sleep(0.5)\n",
    "            acquired1 = lock1.acquire(timeout=1)\n",
    "            if acquired1:\n",
    "                print(\"sdf\")\n",
    "                lock1.release()\n",
    "            lock2.release()\n",
    "            break\n",
    "        else:\n",
    "            print(\"sdgsdg\")\n",
    "\n",
    "t1=threading.Thread(target=thread1_func)\n",
    "t2=threading.Thread(target=thread2_func)\n",
    "t1.start()\n",
    "t2.start()\n",
    "t1.join()\n",
    "t2.join()\n",
    "\n",
    "\n"
   ]
  },
  {
   "cell_type": "markdown",
   "id": "4c61613d-c0ab-4372-b4a3-f037ed6a4a97",
   "metadata": {},
   "source": [
    "<b>Практические рекомендации</b>\n",
    "Минимизируйте область действия блокировок: Захватывайте блокировки только на время, \n",
    "необходимое для защиты критической секции.\n",
    "\n",
    "Используйте высокоуровневые синхронизаторы: Иногда использование таких инструментов, \n",
    "как Queue, может упростить синхронизацию между потоками."
   ]
  },
  {
   "cell_type": "code",
   "execution_count": null,
   "id": "558d418c-e43a-49c1-ae1d-3c8fde151044",
   "metadata": {},
   "outputs": [],
   "source": [
    "import threading\n",
    "import queue\n",
    "import time\n",
    "\n",
    "q = queue.Queue()\n",
    "def producer():\n",
    "    for i in range(5):\n",
    "        item = f'time-{i}'\n",
    "        q.put(item)\n",
    "        print(f'make {item}')\n",
    "        time.sleep(1)\n",
    "\n",
    "def consumer():\n",
    "    while True:\n",
    "        item = q.get()\n",
    "        if item is None:\n",
    "            break\n",
    "        print(f'consume {item}')\n",
    "        q.task_done()\n",
    "\n",
    "thread_producer = threading.Thread(target = producer)\n",
    "thread_consumer = threading.Thread(target = consumer)\n",
    "\n",
    "thread_producer.start()\n",
    "thread_consumer.start()\n",
    "thread_producer.join()\n",
    "q.put(None)\n",
    "thread_consumer.join()\n",
    "\n"
   ]
  },
  {
   "cell_type": "markdown",
   "id": "a2c84e6a-58d0-4e57-adc7-d4f583387613",
   "metadata": {},
   "source": [
    "<b>Примитивы синхронизации в Python: от Lock до Barrier</b>\n",
    "В многопоточном программировании примитивы синхронизации играют ключевую роль в управлении доступом \n",
    "к разделяемым ресурсам и координации действий между потоками. \n",
    "В Python модуль threading предоставляет различные примитивы синхронизации, каждый из которых предназначен для решения \n",
    "определённых задач. В этом разделе мы рассмотрим основные примитивы синхронизации: Lock, RLock, Semaphore,\n",
    "BoundedSemaphore, Event, Condition и Barrier.\n",
    "\n",
    "<b>1. Lock (Блокировка)</b>\n",
    "Описание: Lock — самый простой примитив синхронизации, который обеспечивает взаимное исключение (mutex). \n",
    "Он позволяет только \n",
    "одному потоку владеть блокировкой в любой момент времени, предотвращая доступ других потоков к защищённому ресурсу."
   ]
  },
  {
   "cell_type": "code",
   "execution_count": null,
   "id": "2f0f99c6-f0af-4963-8860-74b147d2ce71",
   "metadata": {},
   "outputs": [],
   "source": []
  },
  {
   "cell_type": "markdown",
   "id": "a18f9d70-72bb-428b-9d03-584e61ba7c4d",
   "metadata": {},
   "source": [
    "<b>2. RLock (Рекурсивная блокировка)</b>\n",
    "Описание: RLock (Reentrant Lock) позволяет одному и тому же потоку несколько раз захватывать блокировку без блокировки самого себя. \n",
    "Это полезно в случаях, когда функция, захватывающая блокировку, вызывает другую функцию, которая также пытается захватить ту же блокировку.\n",
    "\n",
    "Использование:"
   ]
  },
  {
   "cell_type": "code",
   "execution_count": null,
   "id": "f6cda94a-a040-46b1-8bc7-349c5174ac6b",
   "metadata": {},
   "outputs": [],
   "source": []
  },
  {
   "cell_type": "markdown",
   "id": "a14b4d64-1796-4aa3-94a8-9afd232368b9",
   "metadata": {},
   "source": [
    "<b>3. Semaphore (Семафор)</b>\n",
    "Описание: Semaphore ограничивает количество потоков, которые могут одновременно выполнять определённый блок кода или иметь доступ к ресурсу.\n",
    "Это полезно для ограничения количества одновременных подключений к базе данных, доступов к файлам и т.д.\n",
    "\n",
    "Использование:"
   ]
  },
  {
   "cell_type": "code",
   "execution_count": null,
   "id": "76907647-f93b-4e16-83f4-4bbdb3bc5833",
   "metadata": {},
   "outputs": [],
   "source": []
  },
  {
   "cell_type": "markdown",
   "id": "88448231-5662-4c63-b999-fc9dee3340c4",
   "metadata": {},
   "source": [
    "<b>4. BoundedSemaphore (Ограниченный семафор)</b>\n",
    "Описание: BoundedSemaphore — разновидность Semaphore, которая предотвращает превышение начального значения счётчика. \n",
    "Это помогает обнаружить ошибки, связанные с некорректным освобождением семафора.\n",
    "\n",
    "Использование:"
   ]
  },
  {
   "cell_type": "code",
   "execution_count": null,
   "id": "349abec6-9703-47f2-9eda-ff354bb1aa94",
   "metadata": {},
   "outputs": [],
   "source": [
    "import threading\n",
    "bounded_semaphore = threading.BoundedSemaphore(2)\n",
    "\n",
    "def worker(name):\n",
    "    bounded_semaphore.acquire()\n",
    "    try:\n",
    "        # some task\n",
    "        pass\n",
    "    finally:\n",
    "        bounded_semaphore.release()\n",
    "\n",
    "threads = []\n",
    "\n",
    "for i in range(3):\n",
    "    t = threading.Thread(target=worker, args = (f'Thread-{i}',))\n",
    "    threads.append(t)\n",
    "    t.start()\n",
    "\n",
    "for t in threads:\n",
    "    t.join()\n",
    "\n",
    "\n"
   ]
  },
  {
   "cell_type": "markdown",
   "id": "2b18c0a8-6877-4492-88d7-b6482926e7c4",
   "metadata": {},
   "source": [
    "<b>5. Event (Событие)</b>\n",
    "Описание: Event используется для сигнализации между потоками. Один поток может установить событие, а \n",
    "другие потоки, ожидающие этого события, продолжат выполнение.\n",
    "\n",
    "Использование:"
   ]
  },
  {
   "cell_type": "code",
   "execution_count": null,
   "id": "642eb510-7949-47d2-b0dc-45b941f1532d",
   "metadata": {},
   "outputs": [],
   "source": []
  },
  {
   "cell_type": "markdown",
   "id": "db23a818-1539-406c-89f2-684066c6d44d",
   "metadata": {},
   "source": [
    "<b>6. Condition (Условие)</b>\n",
    "Описание: Condition предоставляет более сложный механизм синхронизации, \n",
    "позволяя потокам ждать определённых условий и \n",
    "уведомлять другие потоки о наступлении этих условий. Часто используется для реализации \n",
    "паттерна \"производитель-потребитель\".\n",
    "\n",
    "Использование:"
   ]
  },
  {
   "cell_type": "code",
   "execution_count": null,
   "id": "2660c43e-1674-4054-8396-500bd440112f",
   "metadata": {},
   "outputs": [],
   "source": [
    "import threading\n",
    "import time\n",
    "\n",
    "condition = threading.Condition()\n",
    "queue = []\n",
    "def producer():\n",
    "    with condition:\n",
    "        queue.append(1)\n",
    "        condition.notify()\n",
    "\n",
    "def consumer():\n",
    "    with condition:\n",
    "        while not queue:\n",
    "            condition.wait()\n",
    "\n",
    "        queue.pop(0)\n",
    "\n",
    "producer_thread = threading.Thread(target=producer)\n",
    "consumer_thread = threading.Thread(target=consumer)\n",
    "\n",
    "consumer_thread.start()\n",
    "time.sleep(1)\n",
    "producer_thread.start()\n",
    "\n",
    "producer_thread.join()\n",
    "consumer_thread.join()"
   ]
  },
  {
   "cell_type": "markdown",
   "id": "679849cc-71c5-4507-b5f5-1b571fa08d29",
   "metadata": {},
   "source": [
    "<b>7. Barrier (Барьер)</b>\n",
    "Описание: Barrier синхронизирует определённое количество потоков, заставляя их ждать, \n",
    "пока все потоки не достигнут барьера. После этого все потоки одновременно продолжают выполнение.\n",
    "\n",
    "Использование:"
   ]
  },
  {
   "cell_type": "code",
   "execution_count": null,
   "id": "1eb7006e-092b-4c30-a99c-994de63155c9",
   "metadata": {},
   "outputs": [],
   "source": [
    "import threading\n",
    "import time\n",
    "\n",
    "barrier = threading.Barrier(3)\n",
    "\n",
    "def worker(name):\n",
    "    time.sleep(randon.uniform(0.5, 2))\n",
    "    barrier.wait()\n",
    "\n",
    "threads = []\n",
    "for i in range(3):\n",
    "    t = threading.Thread(target=worker, args=(\"sdf\",))\n",
    "    threads.append(t)\n",
    "    t.start()\n",
    "    for t in threads:\n",
    "        t.join()"
   ]
  },
  {
   "cell_type": "code",
   "execution_count": null,
   "id": "9f6364b6-1714-4a02-82c0-7d83cda033c2",
   "metadata": {},
   "outputs": [],
   "source": [
    "Потокобезопасность, Ограничения Параллелизации и Закон Амдала в Python\n",
    "В многопоточном программировании на Python важны такие концепции, \n",
    "как потокобезопасность, ограничения параллелизации и закон Амдала.\n",
    "Понимание этих концепций помогает создавать\n",
    "эффективные, надежные и масштабируемые приложения."
   ]
  },
  {
   "cell_type": "code",
   "execution_count": null,
   "id": "80c29f4b-339d-4503-8692-a66922f6d31d",
   "metadata": {},
   "outputs": [],
   "source": []
  },
  {
   "cell_type": "markdown",
   "id": "06503672-c64f-48b0-873f-ec0cd7ece9d1",
   "metadata": {},
   "source": [
    "<b>1. Потокобезопасность (Thread Safety)</b>\n",
    "Потокобезопасность означает, что объект или код корректно работают при одновременном доступе из нескольких потоков \n",
    "без возникновения неконсистентного состояния или ошибок. В Python, из-за глобальной блокировки интерпретатора (GIL), потокобезопасность \n",
    "имеет свои особенности, но она остаётся критически важной для разработки многопоточных приложений.\n",
    "\n",
    "<b>Причины Необходимости Потокобезопасности:</b>\n",
    "Гонки данных (Race Conditions): Возникают, когда несколько потоков одновременно изменяют общий ресурс без надлежащей синхронизации.\n",
    "Нестабильное Поведение: Неконтролируемый доступ может привести к непредсказуемым результатам и ошибкам.\n",
    "Способы Обеспечения Потокобезопасности в Python:\n",
    "Использование Блокировок (Locks): Блокировки позволяют ограничить доступ к критическим секциям кода, обеспечивая, что только один\n",
    "поток может выполнять эту секцию одновременно."
   ]
  },
  {
   "cell_type": "code",
   "execution_count": null,
   "id": "90c81768-3e14-4349-8ad3-2d2cc955e9f7",
   "metadata": {},
   "outputs": [],
   "source": []
  },
  {
   "cell_type": "code",
   "execution_count": null,
   "id": "f4f71a45-53f7-41da-9615-ead86e5db830",
   "metadata": {},
   "outputs": [],
   "source": [
    "Использование Модулей Высокого Уровня (Queue): Модуль queue обеспечивает потокобезопасные очереди, которые автоматически \n",
    "управляют синхронизацией между потоками."
   ]
  },
  {
   "cell_type": "code",
   "execution_count": null,
   "id": "330f13f4-621a-408c-8469-ddb2c2ea8fdf",
   "metadata": {},
   "outputs": [],
   "source": []
  },
  {
   "cell_type": "code",
   "execution_count": null,
   "id": "60d5a1db-284e-4311-849a-5aa2da9b1f64",
   "metadata": {},
   "outputs": [],
   "source": [
    "Использование Неизменяемых Объектов: Если объекты неизменяемы (immutable), они безопасны для чтения несколькими потоками \n",
    "без необходимости синхронизации."
   ]
  },
  {
   "cell_type": "markdown",
   "id": "e1839783-d1a6-400f-9ac2-86c20d488d79",
   "metadata": {},
   "source": [
    "<b>2. Ограничения Параллелизации</b>\n",
    "Параллелизация может значительно повысить производительность приложений, но она сталкивается с рядом ограничений, особенно в контексте Python.\n",
    "\n",
    "Основные Ограничения Параллелизации в Python:\n",
    "Глобальная Блокировка Интерпретатора (GIL):\n",
    "\n",
    "Описание: В CPython (стандартная реализация Python) GIL ограничивает выполнение байт-кода Python одним потоком одновременно.\n",
    "Влияние: Многопоточность не обеспечивает реального параллелизма для CPU-bound задач, так как потоки вынуждены чередоваться в выполнении.\n",
    "Решение: Для CPU-bound задач лучше использовать многопроцессность (multiprocessing) или альтернативные реализации Python \n",
    "без GIL (например, Jython, IronPython).\n",
    "Зависимости Между Задачами:\n",
    "\n",
    "Описание: Если задачи зависят друг от друга, параллельное выполнение может быть затруднено.\n",
    "Пример: Задача B зависит от результата задачи A.\n",
    "Влияние: Увеличивает время ожидания и может снизить эффективность параллелизации.\n",
    "Накладные Расходы на Синхронизацию:\n",
    "\n",
    "Описание: Управление доступом к общим ресурсам требует синхронизации, которая добавляет накладные расходы.\n",
    "Влияние: Может снизить общую производительность при большом количестве потоков или процессов.\n",
    "Ограничения Аппаратного Обеспечения:\n",
    "\n",
    "Ядер Процессора: Количество доступных ядер ограничивает максимальное количество параллельных потоков или процессов.\n",
    "Память и Другие Ресурсы: Ограничения по памяти и другим ресурсам могут стать узким местом при масштабировании.\n",
    "Демонстрационные Эффекты (Diminishing Returns):\n",
    "\n",
    "Описание: По мере увеличения числа потоков или процессов прирост производительности уменьшается и может даже стать отрицательным\n",
    "из-за накладных расходов.\n",
    "Пример: При 100 потоках может наблюдаться значительное увеличение накладных расходов по сравнению с 10 потоками.\n",
    "Пример Ограничений GIL:\n",
    "Рассмотрим выполнение CPU-bound задачи с использованием потоков и процессов."
   ]
  },
  {
   "cell_type": "markdown",
   "id": "47d067a4-8aad-413c-bee8-ed2bccff38b1",
   "metadata": {},
   "source": [
    "<b>Закон Амдала (Amdahl's Law)</b>\n",
    "Закон Амдала описывает теоретический предел ускорения вычислений при использовании параллельных ресурсов. Он показывает, как ускорение отдельных\n",
    "частей программы влияет на общее ускорение.\n",
    "\n",
    "Формула Закона Амдала:\n",
    "S=1/((1-P)+ P/N)\n",
    "\n",
    "S: Общий коэффициент ускорения.\n",
    "P: Доля программы, которая может быть параллелизирована.\n",
    "N: Количество параллельных исполнителей (например, ядер процессора).\n",
    "Интерпретация Закона:\n",
    "Линейное Ускорение: Если вся программа может быть полностью параллелизирована (P = 1), то ускорение\n",
    "будет линейным: S = N.\n",
    "Ограничение: Даже при бесконечном количестве параллельных исполнителей, максимальное ускорение\n",
    "ограничено (1 / (1 - P))."
   ]
  },
  {
   "cell_type": "code",
   "execution_count": null,
   "id": "6841bd83-50ed-4b99-bac2-e8892f3b78e4",
   "metadata": {},
   "outputs": [],
   "source": [
    "https://ru.wikipedia.org/wiki/%D0%97%D0%B0%D0%BA%D0%BE%D0%BD_%D0%90%D0%BC%D0%B4%D0%B0%D0%BB%D0%B0"
   ]
  },
  {
   "attachments": {
    "823e33da-5226-41fb-b06d-28fc7bc95a94.png": {
     "image/png": "[encoded data removed]"
    }
   },
   "cell_type": "markdown",
   "id": "319363f0-cc99-42e4-9be2-8cd03362d0c7",
   "metadata": {},
   "source": [
    "![image.png](attachment:823e33da-5226-41fb-b06d-28fc7bc95a94.png)"
   ]
  }
 ],
 "metadata": {
  "kernelspec": {
   "display_name": "Python 3 (ipykernel)",
   "language": "python",
   "name": "python3"
  },
  "language_info": {
   "codemirror_mode": {
    "name": "ipython",
    "version": 3
   },
   "file_extension": ".py",
   "mimetype": "text/x-python",
   "name": "python",
   "nbconvert_exporter": "python",
   "pygments_lexer": "ipython3",
   "version": "3.10.12"
  }
 },
 "nbformat": 4,
 "nbformat_minor": 5
}
