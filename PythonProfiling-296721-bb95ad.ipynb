{
 "cells": [
  {
   "cell_type": "code",
   "execution_count": null,
   "id": "e6a167a6-ebaf-4d9e-b626-8ba7c7aa3bb2",
   "metadata": {},
   "outputs": [],
   "source": [
    "Профилирование в Python — это процесс измерения времени выполнения и использования \n",
    "ресурсов для каждой части кода, что помогает выявить узкие места и оптимизировать \n",
    "производительность. В этом руководстве мы рассмотрим различные методы профилирования, \n",
    "такие как использование модуля cProfile, визуализацию данных профилирования с помощью SnakeViz, \n",
    "и профилирование памяти с memory_profiler.\n",
    "1. Основы профилирования с cProfile\n",
    "Установка\n",
    "cProfile — встроенный в Python модуль, поэтому дополнительная установка не требуется.\n",
    "Пример использования cProfile\n"
   ]
  },
  {
   "cell_type": "code",
   "execution_count": null,
   "id": "47f9bb62-28bd-4f0c-95ad-7dd747f7f392",
   "metadata": {},
   "outputs": [],
   "source": [
    "пример"
   ]
  },
  {
   "cell_type": "code",
   "execution_count": null,
   "id": "5b0a792a-a036-494d-8d64-cc9b374e42ec",
   "metadata": {},
   "outputs": [],
   "source": [
    "import cProfile\n",
    "\n",
    "def my_function():\n",
    "    pass\n",
    "\n",
    "profiler = cProfile.Profile()\n",
    "profiler.enable()\n",
    "my_function()\n",
    "profiler.disable()\n",
    "profile.print_stats(sort=\"time\")\n",
    "\n"
   ]
  },
  {
   "cell_type": "code",
   "execution_count": 3,
   "id": "9a1eb2b4-4dc9-4605-900b-9165562442f4",
   "metadata": {},
   "outputs": [
    {
     "name": "stdout",
     "output_type": "stream",
     "text": [
      "         99980009 function calls in 107.397 seconds\n",
      "\n",
      "   Ordered by: standard name\n",
      "\n",
      "   ncalls  tottime  percall  cumtime  percall filename:lineno(function)\n",
      "        1    0.000    0.000   72.061   72.061 1366441703.py:10(fast_function)\n",
      " 99980002   39.425    0.000   39.425    0.000 1366441703.py:11(<genexpr>)\n",
      "        1    0.000    0.000  107.397  107.397 1366441703.py:13(main)\n",
      "        1   35.335   35.335   35.335   35.335 1366441703.py:3(slow_function)\n",
      "        1    0.000    0.000  107.397  107.397 <string>:1(<module>)\n",
      "        1    0.000    0.000  107.397  107.397 {built-in method builtins.exec}\n",
      "        1   32.636   32.636   72.061   72.061 {built-in method builtins.sum}\n",
      "        1    0.000    0.000    0.000    0.000 {method 'disable' of '_lsprof.Profiler' objects}\n",
      "\n",
      "\n"
     ]
    }
   ],
   "source": [
    "import cProfile\n",
    "\n",
    "def slow_function():\n",
    "    total=0\n",
    "    for i in range(1, 10000):\n",
    "        for j in range(1, 10000):\n",
    "            total += i*j\n",
    "    return total\n",
    "\n",
    "def fast_function():\n",
    "    return sum(i*j for i in range(1,10000) for j in range(1,10000))\n",
    "\n",
    "def main():\n",
    "    slow_function()\n",
    "    fast_function()\n",
    "\n",
    "if __name__ == \"__main__\":\n",
    "    cProfile.run('main()')\n"
   ]
  },
  {
   "cell_type": "code",
   "execution_count": null,
   "id": "4d006208-6779-4c5b-b458-00de6e53a3d0",
   "metadata": {},
   "outputs": [],
   "source": [
    "pip install line_profiler\n",
    "\n",
    "python3 -m pip install line_profiler\n"
   ]
  },
  {
   "cell_type": "code",
   "execution_count": null,
   "id": "73fbecd8-ecaa-4b66-a00c-48834ffcd66c",
   "metadata": {},
   "outputs": [],
   "source": [
    "@profile\n",
    "def m_function():\n",
    "    pass"
   ]
  },
  {
   "cell_type": "code",
   "execution_count": null,
   "id": "576da8b7-674b-4073-b650-7c2647f2ce45",
   "metadata": {},
   "outputs": [],
   "source": [
    "kernprof -l -v my_script.py"
   ]
  },
  {
   "cell_type": "code",
   "execution_count": null,
   "id": "7ee9be9b-6b0c-447d-865f-d512f348b705",
   "metadata": {},
   "outputs": [],
   "source": [
    "pip install memory_profiler\n",
    "\n",
    "from memory_profiler import profile\n",
    "\n",
    "@profile\n",
    "def m_function():\n",
    "    mylist = [1] * (10**6)\n",
    "    mylist = mylist *2\n",
    "    return mylist\n",
    "\n",
    "python -m memory_profiler my_script.py\n",
    "\n",
    "pip install objgraph\n",
    "\n",
    "import objgraph\n",
    "objgraph.show_most+common_types()\n",
    "\n",
    "mylist = [1,2,3]\n",
    "objgraph.show_refs([mylist], filesname='refs.png')\n",
    "\n"
   ]
  },
  {
   "cell_type": "code",
   "execution_count": null,
   "id": "f6f80d35-edc2-4d8c-8353-b3f691d444cb",
   "metadata": {},
   "outputs": [],
   "source": [
    "pip install memray\n",
    "\n"
   ]
  },
  {
   "cell_type": "code",
   "execution_count": null,
   "id": "3e9764b5-85ba-4ddc-ad72-9fa2b89fdfd5",
   "metadata": {},
   "outputs": [],
   "source": [
    "linux\n",
    "\n",
    "perf\n",
    "sudo ap install linux-tools-common linux-tools-$(uname -r)\n",
    "\n",
    "perf record -g python3 script.py\n",
    "\n",
    "\n",
    "strace c python3 script.py\n",
    "\n",
    "\n",
    "linux memory\n",
    "valgrinf\n",
    "\n",
    "sudo apt install valgrind\n",
    "\n",
    "valgrind --tool=massif python3 script.py\n",
    "\n",
    "ms_print massif.out.<id>\n",
    "\n",
    "IO\n",
    "iostat iotop\n",
    "\n",
    "iostat -x 1\n",
    "\n",
    "sudo iotop\n",
    "sudo apt install iotop\n",
    "\n",
    "\n",
    "\n"
   ]
  },
  {
   "cell_type": "code",
   "execution_count": null,
   "id": "93d2c53a-b132-493f-9b8d-f23c080b9216",
   "metadata": {},
   "outputs": [],
   "source": [
    "Понимание отчета cProfile\n",
    "Вывод cProfile содержит несколько колонок:\n",
    "•\tncalls: количество вызовов функции.\n",
    "•\ttottime: общее время, затраченное внутри функции, исключая время вызова других функций.\n",
    "•\tpercall: среднее время на один вызов функции.\n",
    "•\tcumtime: общее время, затраченное на выполнение функции, включая время всех вызовов других функций.\n"
   ]
  },
  {
   "cell_type": "code",
   "execution_count": null,
   "id": "5d3fcebe-6f2b-41c6-b6a9-1cc4d014575e",
   "metadata": {},
   "outputs": [],
   "source": [
    "пример"
   ]
  },
  {
   "cell_type": "code",
   "execution_count": 2,
   "id": "342f6854-627c-461e-85ed-443daeb30c21",
   "metadata": {},
   "outputs": [
    {
     "ename": "SyntaxError",
     "evalue": "'return' outside function (3881441252.py, line 44)",
     "output_type": "error",
     "traceback": [
      "\u001b[1;36m  Cell \u001b[1;32mIn[2], line 44\u001b[1;36m\u001b[0m\n\u001b[1;33m    return n\u001b[0m\n\u001b[1;37m    ^\u001b[0m\n\u001b[1;31mSyntaxError\u001b[0m\u001b[1;31m:\u001b[0m 'return' outside function\n"
     ]
    }
   ],
   "source": [
    "import cProfile\n",
    "import random\n",
    "import numpy as np\n",
    "\n",
    "\n",
    "import cProfile\n",
    "import random\n",
    "import numpy as np\n",
    "\n",
    "\n",
    "def recursive_fibonacci(n):\n",
    "    \"\"\"Рекурсивная функция вычисления чисел Фибоначчи (неэффективная версия).\"\"\"\n",
    "    if n <= 1:\n",
    "        return n\n",
    "    return recursive_fibonacci(n - 1) + recursive_fibonacci(n - 2)\n",
    "\n",
    "\n",
    "def generate_random_matrix(size):\n",
    "    \"\"\"Создаёт случайную матрицу и вычисляет её определитель.\"\"\"\n",
    "    matrix = np.random.rand(size, size)\n",
    "    return np.linalg.det(matrix)\n",
    "\n",
    "\n",
    "def process_large_list():\n",
    "    \"\"\"Генерирует и сортирует большой список случайных чисел.\"\"\"\n",
    "    data = [random.randint(1, 10**6) for _ in range(10**6)]\n",
    "    data.sort()\n",
    "    return sum(data)\n",
    "\n",
    "\n",
    "def run_profiled_code():\n",
    "    \"\"\"Запускает несколько функций для профилирования.\"\"\"\n",
    "    fib_result = recursive_fibonacci(10)  # Рекурсивный вызов\n",
    "    matrix_det = generate_random_matrix(200)  # Работа с NumPy\n",
    "    list_sum = process_large_list()  # Работа со списками\n",
    "\n",
    "    return fib_result, matrix_det, list_sum\n",
    "\n",
    "\n",
    "if __name__ == \"__main__\":\n",
    "    cProfile.run(\"run_profiled_code()\", sort=\"cumulative\")\n",
    "    \"\"\"Рекурсивная функция вычисления чисел Фибоначчи (неэффективная версия).\"\"\"\n",
    "    if n <= 1:\n",
    "        return n\n",
    "    return recursive_fibonacci(n - 1) + recursive_fibonacci(n - 2)\n",
    "\n",
    "\n",
    "def generate_random_matrix(size):\n",
    "    \"\"\"Создаёт случайную матрицу и вычисляет её определитель.\"\"\"\n",
    "    matrix = np.random.rand(size, size)\n",
    "    return np.linalg.det(matrix)\n",
    "\n",
    "\n",
    "def process_large_list():\n",
    "    \"\"\"Генерирует и сортирует большой список случайных чисел.\"\"\"\n",
    "    data = [random.randint(1, 10**6) for _ in range(10**6)]\n",
    "    data.sort()\n",
    "    return sum(data)\n",
    "\n",
    "\n",
    "def run_profiled_code():\n",
    "    \"\"\"Запускает несколько функций для профилирования.\"\"\"\n",
    "    fib_result = recursive_fibonacci(10)  # Рекурсивный вызов\n",
    "    matrix_det = generate_random_matrix(200)  # Работа с NumPy\n",
    "    list_sum = process_large_list()  # Работа со списками\n",
    "\n",
    "    return fib_result, matrix_det, list_sum\n",
    "\n",
    "\n",
    "if __name__ == \"__main__\":\n",
    "    cProfile.run(\"run_profiled_code()\", sort=\"cumulative\")\n",
    "\n"
   ]
  },
  {
   "cell_type": "code",
   "execution_count": null,
   "id": "46a3833e-9bb1-4d78-ac84-f4ff2fb0e99f",
   "metadata": {},
   "outputs": [],
   "source": [
    "Визуализация данных профилирования с помощью SnakeViz\n",
    "Для визуализации результатов профилирования можно использовать SnakeViz. Это помогает лучше понять структуру кода и\n",
    "выявить узкие места.\n",
    "Установка SnakeViz\n"
   ]
  },
  {
   "cell_type": "code",
   "execution_count": null,
   "id": "1d48414f-aa48-4eaa-868c-d87b619d103b",
   "metadata": {},
   "outputs": [],
   "source": [
    "pip install snakeviz"
   ]
  },
  {
   "cell_type": "code",
   "execution_count": null,
   "id": "6cd1b044-73c0-4db9-b8f9-4d2415b1b456",
   "metadata": {},
   "outputs": [],
   "source": [
    "Использование SnakeViz\n",
    "После того как вы сохранили данные профилирования в файл, запустите SnakeViz:\n"
   ]
  },
  {
   "cell_type": "code",
   "execution_count": null,
   "id": "8b8e6e43-e4d3-4873-bce3-09c258ae24e3",
   "metadata": {},
   "outputs": [],
   "source": [
    "snakeviz profiling_results"
   ]
  },
  {
   "cell_type": "code",
   "execution_count": null,
   "id": "2d63e978-0ad6-4e99-aaef-7be32f1e01c7",
   "metadata": {},
   "outputs": [],
   "source": [
    "Использование SnakeViz\n",
    "После того как вы сохранили данные профилирования в файл, запустите SnakeViz:\n"
   ]
  },
  {
   "cell_type": "code",
   "execution_count": null,
   "id": "38868c52-f361-4b83-9635-8a907d1ef0cf",
   "metadata": {},
   "outputs": [],
   "source": [
    "Пример использования memory_profiler\n",
    "Для профилирования памяти используется декоратор @profile.\n"
   ]
  },
  {
   "cell_type": "code",
   "execution_count": 3,
   "id": "565be575-59b6-4215-8ed0-5ee9b3fb674a",
   "metadata": {},
   "outputs": [
    {
     "name": "stdout",
     "output_type": "stream",
     "text": [
      "ERROR: Could not find file C:\\Users\\Win10\\AppData\\Local\\Temp\\ipykernel_16052\\4042255389.py\n",
      "ERROR: Could not find file C:\\Users\\Win10\\AppData\\Local\\Temp\\ipykernel_16052\\4042255389.py\n",
      "ERROR: Could not find file C:\\Users\\Win10\\AppData\\Local\\Temp\\ipykernel_16052\\4042255389.py\n"
     ]
    }
   ],
   "source": [
    "from memory_profiler import profile\n",
    "import numpy as np\n",
    "import random\n",
    "\n",
    "\n",
    "@profile\n",
    "def create_large_list():\n",
    "    \"\"\"Создаёт большой список случайных чисел.\"\"\"\n",
    "    large_list = [random.randint(1, 10**6) for _ in range(10**6)]\n",
    "    return sum(large_list)\n",
    "\n",
    "\n",
    "@profile\n",
    "def create_large_numpy_array():\n",
    "    \"\"\"Создаёт большой массив NumPy и вычисляет его сумму.\"\"\"\n",
    "    large_array = np.random.randint(1, 10**6, size=10**6)\n",
    "    return large_array.sum()\n",
    "\n",
    "\n",
    "@profile\n",
    "def generator_approach():\n",
    "    \"\"\"Использует генератор вместо списка для экономии памяти.\"\"\"\n",
    "    return sum(random.randint(1, 10**6) for _ in range(10**6))\n",
    "\n",
    "\n",
    "if __name__ == \"__main__\":\n",
    "    create_large_list()\n",
    "    create_large_numpy_array()\n",
    "    generator_approach()\n",
    "\n"
   ]
  },
  {
   "cell_type": "code",
   "execution_count": null,
   "id": "d031c395-224e-41bb-a62e-34fe170712df",
   "metadata": {},
   "outputs": [],
   "source": [
    "Использование line_profiler для детального профилирования\n",
    "line_profiler позволяет детально профилировать отдельные строки кода.\n",
    "Установка\n"
   ]
  },
  {
   "cell_type": "code",
   "execution_count": null,
   "id": "a72deea5-2b71-418d-81c6-af6976bb93b0",
   "metadata": {},
   "outputs": [],
   "source": [
    "pip install line_profiler\n"
   ]
  },
  {
   "cell_type": "code",
   "execution_count": null,
   "id": "ceabd99e-8e3f-42c9-83ea-2becd263b3d8",
   "metadata": {},
   "outputs": [],
   "source": [
    "Пример использования line_profiler"
   ]
  },
  {
   "cell_type": "code",
   "execution_count": null,
   "id": "64aa30eb-97fe-408f-b53b-4cfe840197e9",
   "metadata": {},
   "outputs": [],
   "source": [
    "import numpy as np\n",
    "import random\n",
    "from line_profiler import LineProfiler\n",
    "\n",
    "\n",
    "def slow_function():\n",
    "    \"\"\"Функция с различными вычислительными операциями.\"\"\"\n",
    "    total = 0\n",
    "    for i in range(10**5):  # Итерации в цикле\n",
    "        total += i ** 2  # Возведение в квадрат\n",
    "    return total\n",
    "\n",
    "\n",
    "def compute_matrix_product():\n",
    "    \"\"\"Перемножает две случайные матрицы 300x300.\"\"\"\n",
    "    A = np.random.rand(300, 300)\n",
    "    B = np.random.rand(300, 300)\n",
    "    return np.dot(A, B)  # Матричное произведение\n",
    "\n",
    "\n",
    "def process_large_list():\n",
    "    \"\"\"Создаёт, сортирует и суммирует список.\"\"\"\n",
    "    data = [random.randint(1, 10**6) for _ in range(10**5)]\n",
    "    data.sort()\n",
    "    return sum(data)\n",
    "\n",
    "\n",
    "# Создаём профилировщик\n",
    "lp = LineProfiler()\n",
    "lp.add_function(slow_function)\n",
    "lp.add_function(compute_matrix_product)\n",
    "lp.add_function(process_large_list)\n",
    "\n",
    "# Запускаем профилирование\n",
    "lp.enable()\n",
    "slow_function()\n",
    "compute_matrix_product()\n",
    "process_large_list()\n",
    "lp.disable()\n",
    "\n",
    "# Выводим результат\n",
    "lp.print_stats()\n",
    "\n"
   ]
  },
  {
   "cell_type": "code",
   "execution_count": null,
   "id": "c03a813d-1b90-4900-a1b8-31c87bcc55c7",
   "metadata": {},
   "outputs": [],
   "source": [
    "Профилирование многопоточных приложений\n",
    "Для профилирования многопоточных приложений в Python можно использовать cProfile в\n",
    "сочетании с библиотеками для работы с потоками, такими как threading или concurrent.futures.\n",
    "Пример многопоточного профилирования:\n"
   ]
  },
  {
   "cell_type": "code",
   "execution_count": 3,
   "id": "bc94bb11-e945-4d89-bef6-17e9e69dd294",
   "metadata": {},
   "outputs": [
    {
     "name": "stdout",
     "output_type": "stream",
     "text": [
      "         342 function calls in 8.624 seconds\n",
      "\n",
      "   Ordered by: standard name\n",
      "\n",
      "   ncalls  tottime  percall  cumtime  percall filename:lineno(function)\n",
      "        1    0.000    0.000    8.624    8.624 759271884.py:7(main)\n",
      "        1    0.000    0.000    8.624    8.624 <string>:1(<module>)\n",
      "        4    0.000    0.000    0.000    0.000 _base.py:328(__init__)\n",
      "        1    0.000    0.000    0.217    0.217 _base.py:583(map)\n",
      "        1    0.000    0.000    0.217    0.217 _base.py:608(<listcomp>)\n",
      "        1    0.000    0.000    0.000    0.000 _base.py:612(result_iterator)\n",
      "        1    0.000    0.000    0.000    0.000 _base.py:643(__enter__)\n",
      "        1    0.000    0.000    8.407    8.407 _base.py:646(__exit__)\n",
      "        4    0.000    0.000    0.000    0.000 _weakrefset.py:39(_remove)\n",
      "        4    0.000    0.000    0.000    0.000 _weakrefset.py:85(add)\n",
      "        1    0.000    0.000    0.000    0.000 thread.py:123(__init__)\n",
      "        4    0.000    0.000    0.217    0.054 thread.py:161(submit)\n",
      "        4    0.000    0.000    0.216    0.054 thread.py:180(_adjust_thread_count)\n",
      "        1    0.000    0.000    8.407    8.407 thread.py:216(shutdown)\n",
      "        4    0.000    0.000    0.000    0.000 thread.py:47(__init__)\n",
      "        4    0.000    0.000    0.000    0.000 threading.py:1051(_stop)\n",
      "        4    0.000    0.000    8.407    2.102 threading.py:1087(join)\n",
      "        4    0.000    0.000    8.407    2.102 threading.py:1125(_wait_for_tstate_lock)\n",
      "        8    0.000    0.000    0.000    0.000 threading.py:1206(daemon)\n",
      "        4    0.000    0.000    0.000    0.000 threading.py:1324(_make_invoke_excepthook)\n",
      "        8    0.000    0.000    0.000    0.000 threading.py:1453(current_thread)\n",
      "        9    0.000    0.000    0.000    0.000 threading.py:243(__init__)\n",
      "        8    0.000    0.000    0.000    0.000 threading.py:271(__enter__)\n",
      "        8    0.000    0.000    0.000    0.000 threading.py:274(__exit__)\n",
      "        8    0.000    0.000    0.000    0.000 threading.py:280(_release_save)\n",
      "        8    0.000    0.000    0.000    0.000 threading.py:283(_acquire_restore)\n",
      "        8    0.000    0.000    0.000    0.000 threading.py:286(_is_owned)\n",
      "        8    0.000    0.000    0.215    0.027 threading.py:295(wait)\n",
      "        1    0.000    0.000    0.000    0.000 threading.py:429(__init__)\n",
      "        4    0.000    0.000    0.000    0.000 threading.py:440(acquire)\n",
      "        4    0.000    0.000    0.000    0.000 threading.py:562(__init__)\n",
      "        8    0.000    0.000    0.000    0.000 threading.py:575(is_set)\n",
      "        4    0.000    0.000    0.215    0.054 threading.py:611(wait)\n",
      "        4    0.000    0.000    0.000    0.000 threading.py:829(_maintain_shutdown_locks)\n",
      "        4    0.000    0.000    0.000    0.000 threading.py:839(<listcomp>)\n",
      "        4    0.000    0.000    0.000    0.000 threading.py:856(__init__)\n",
      "        4    0.000    0.000    0.000    0.000 threading.py:90(RLock)\n",
      "        4    0.000    0.000    0.216    0.054 threading.py:945(start)\n",
      "        4    0.000    0.000    0.000    0.000 weakref.py:369(remove)\n",
      "        4    0.000    0.000    0.000    0.000 weakref.py:427(__setitem__)\n",
      "       14    0.000    0.000    0.000    0.000 {built-in method _thread.allocate_lock}\n",
      "        8    0.000    0.000    0.000    0.000 {built-in method _thread.get_ident}\n",
      "        4    0.000    0.000    0.000    0.000 {built-in method _thread.start_new_thread}\n",
      "        1    0.000    0.000    8.624    8.624 {built-in method builtins.exec}\n",
      "        4    0.000    0.000    0.000    0.000 {built-in method builtins.len}\n",
      "        8    0.000    0.000    0.000    0.000 {built-in method time.monotonic}\n",
      "        8    0.000    0.000    0.000    0.000 {method '__enter__' of '_thread.lock' objects}\n",
      "        4    0.000    0.000    0.000    0.000 {method '__exit__' of '_thread.RLock' objects}\n",
      "       21    0.000    0.000    0.000    0.000 {method '__exit__' of '_thread.lock' objects}\n",
      "       36    8.621    0.239    8.621    0.239 {method 'acquire' of '_thread.lock' objects}\n",
      "        8    0.000    0.000    0.000    0.000 {method 'add' of 'set' objects}\n",
      "        8    0.000    0.000    0.000    0.000 {method 'append' of 'collections.deque' objects}\n",
      "        4    0.000    0.000    0.000    0.000 {method 'difference_update' of 'set' objects}\n",
      "        1    0.000    0.000    0.000    0.000 {method 'disable' of '_lsprof.Profiler' objects}\n",
      "        4    0.000    0.000    0.000    0.000 {method 'discard' of 'set' objects}\n",
      "       17    0.000    0.000    0.000    0.000 {method 'locked' of '_thread.lock' objects}\n",
      "        5    0.000    0.000    0.000    0.000 {method 'put' of '_queue.SimpleQueue' objects}\n",
      "       12    0.000    0.000    0.000    0.000 {method 'release' of '_thread.lock' objects}\n",
      "        4    0.000    0.000    0.000    0.000 {method 'remove' of 'collections.deque' objects}\n",
      "\n",
      "\n"
     ]
    }
   ],
   "source": [
    "import cProfile\n",
    "from concurrent.futures import ThreadPoolExecutor\n",
    "\n",
    "def worker(n):\n",
    "    return sum(i*j for i in range(1,n) for j in range(1,n))\n",
    "\n",
    "def main():\n",
    "    with ThreadPoolExecutor(max_workers=4) as executor:\n",
    "        results = executor.map(worker,[1000,2000,3000,4000])\n",
    "if __name__ == \"__main__\":\n",
    "    cProfile.run('main()')\n"
   ]
  },
  {
   "cell_type": "code",
   "execution_count": null,
   "id": "8b997549-22b0-4712-a160-d566d19b21b0",
   "metadata": {},
   "outputs": [],
   "source": [
    "Антипаттерны профилирования — это распространенные ошибки и неправильные подходы, \n",
    "которых следует избегать при оптимизации кода на основе профилирования. Они могут привести к \n",
    "неверным выводам, потере времени и даже ухудшению производительности. Рассмотрим некоторые из\n",
    "наиболее распространенных антипаттернов.\n",
    "1. Профилирование без ясной цели\n",
    "Антипаттерн:\n",
    "Профилирование кода без четкого понимания того, что вы хотите улучшить.\n",
    "Проблема:\n",
    "Без четкой цели профилирование может привести к избыточному сбору данных и трате времени на \n",
    "анализ частей кода, которые на самом деле не являются проблемными.\n",
    "Правильный подход:\n",
    "Перед началом профилирования определите конкретные цели и области, которые необходимо \n",
    "оптимизировать (например, медленно работающая функция, избыточное использование памяти).\n",
    "2. Оптимизация без анализа профиля\n",
    "Антипаттерн:\n",
    "Начинать оптимизацию кода до проведения профилирования, полагаясь на интуицию или предположения.\n",
    "Проблема:\n",
    "Это часто приводит к оптимизации тривиальных участков кода, которые не оказывают значительного влияния на \n",
    "общую производительность.\n",
    "Правильный подход:\n",
    "Всегда используйте инструменты профилирования, такие как cProfile, чтобы определить, какие части\n",
    "    кода требуют оптимизации, и фокусируйтесь именно на них.\n",
    "3. Игнорирование кумулятивного времени (cumulative time)\n",
    "Антипаттерн:\n",
    "Ориентация только на общее время выполнения функции, игнорируя \n",
    "кумулятивное время (время, включающее вызовы вложенных функций).\n",
    "Проблема:\n",
    "Это может привести к упущению узких мест, которые вызываются часто, но занимают мало времени в каждом отдельном вызове.\n",
    "Правильный подход:\n",
    "Анализируйте и учитывайте кумулятивное время функций, чтобы понять, какие функции или участки кода \n",
    "оказывают значительное влияние на производительность.\n",
    "4. Профилирование в неправильных условиях\n",
    "Антипаттерн:\n",
    "Профилирование кода в условиях, отличающихся от реальных, например, на тестовых данных или в нерабочем окружении.\n",
    "Проблема:\n",
    "Полученные результаты могут не соответствовать реальной производительности приложения, что приведет к неправильным выводам.\n",
    "Правильный подход:\n",
    "Старайтесь профилировать код в условиях, максимально приближенных к боевым: на реальных данных и в том окружении,\n",
    "где код будет выполняться.\n",
    "5. Игнорирование эффекта кэширования и оптимизаций JIT\n",
    "Антипаттерн:\n",
    "Профилирование кода с включенным кэшированием или оптимизациями JIT (Just-In-Time), которые могут искажать результаты.\n",
    "Проблема:\n",
    "Кэширование и JIT могут значительно изменять время выполнения функций, делая профилирование нерепрезентативным.\n",
    "Правильный подход:\n",
    "Отключайте кэширование и учитывайте эффекты JIT при профилировании, если это возможно и необходимо для точного анализа.\n",
    "6. Оптимизация мелких участков кода\n",
    "Антипаттерн:\n",
    "Фокусировка на оптимизации очень мелких участков кода, которые почти не влияют на общую производительность.\n",
    "Проблема:\n",
    "Это может привести к потере времени и незначительным улучшениям, в то время как реальные\n",
    "    узкие места остаются без внимания.\n",
    "Правильный подход:\n",
    "Используйте принцип Парето: 80% проблем производительности обычно приходятся на 20% кода. Сосредоточьтесь на\n",
    "оптимизации именно этих 20%.\n",
    "7. Полное игнорирование потребления памяти\n",
    "Антипаттерн:\n",
    "Фокусировка исключительно на времени выполнения, игнорируя использование памяти.\n",
    "Проблема:\n",
    "Некоторые оптимизации, направленные на ускорение выполнения, могут существенно увеличить потребление памяти, \n",
    "    что приведет к проблемам с ресурсами или даже к утечкам памяти.\n",
    "Правильный подход:\n",
    "Профилируйте не только время выполнения, но и использование памяти, чтобы сбалансировать производительность и\n",
    "потребление ресурсов.\n",
    "8. Одновременное изменение нескольких факторов\n",
    "Антипаттерн:\n",
    "Изменение сразу нескольких участков кода или настроек во время оптимизации, без изоляции эффектов каждого изменения.\n",
    "Проблема:\n",
    "Это затрудняет понимание, какое изменение действительно улучшило (или ухудшило) производительность.\n",
    "Правильный подход:\n",
    "Изменяйте и тестируйте один фактор за раз, чтобы точно понимать влияние каждого изменения.\n",
    "9. Недостаточное профилирование ввода-вывода (I/O)\n",
    "Антипаттерн:\n",
    "Игнорирование профилирования операций ввода-вывода, таких как чтение и запись файлов, работа с базами данных\n",
    "    и сетевыми операциями.\n",
    "Проблема:\n",
    "Операции I/O могут быть основным узким местом в производительности, и их игнорирование может привести к упущению\n",
    "    ключевых проблем.\n",
    "Правильный подход:\n",
    "Включайте операции I/O в процесс профилирования и анализируйте их влияние на общую производительность.\n",
    "10. Пренебрежение профилированием в многопоточной среде\n",
    "Антипаттерн:\n",
    "Игнорирование особенностей многопоточной среды при профилировании.\n",
    "Проблема:\n",
    "Многопоточные программы могут страдать от проблем с синхронизацией, которые не видны в однопоточном профилировании.\n",
    "Правильный подход:\n",
    "Используйте подходящие инструменты профилирования для многопоточных программ и анализируйте влияние контекста \n",
    "переключений и блокировок на производительность.\n",
    "Заключение\n",
    "Избегание антипаттернов профилирования поможет вам сосредоточиться на реальных проблемах производительности и\n",
    "    достичь более значительных улучшений. Профилирование должно быть целенаправленным, репрезентативным и сбалансированным, \n",
    "    чтобы результаты были полезны и точны.\n",
    "методология. cProfile, line_profiler, memory_profiler;\n"
   ]
  },
  {
   "cell_type": "code",
   "execution_count": null,
   "id": "23313cfd-0dc4-4a0c-b0df-23007984640f",
   "metadata": {},
   "outputs": [],
   "source": []
  },
  {
   "cell_type": "code",
   "execution_count": null,
   "id": "d6f50bab-916c-445d-8207-4fefa36ebbd3",
   "metadata": {},
   "outputs": [],
   "source": [
    "\n"
   ]
  },
  {
   "cell_type": "code",
   "execution_count": null,
   "id": "db839deb-c83e-4ed7-a1ae-0e544662e883",
   "metadata": {},
   "outputs": [],
   "source": [
    "Основные команды и примеры использования\n",
    "1. Сбор данных профилирования (perf record)\n",
    "Команда perf record используется для записи событий производительности в ходе выполнения команды.\n",
    "Пример:\n"
   ]
  },
  {
   "cell_type": "code",
   "execution_count": null,
   "id": "ea20cb38-79a9-4db2-a2ff-1c70e04a9aa2",
   "metadata": {},
   "outputs": [],
   "source": [
    "perf record -g ./your_program"
   ]
  },
  {
   "cell_type": "code",
   "execution_count": null,
   "id": "264f7477-5393-46d9-93cb-491643354a4c",
   "metadata": {},
   "outputs": [],
   "source": [
    "2. Анализ собранных данных (perf report)\n",
    "После выполнения команды perf record, данные сохраняются в файл perf.data. Для анализа этих данных используется \n",
    "команда perf report.\n",
    "Пример:\n"
   ]
  },
  {
   "cell_type": "code",
   "execution_count": null,
   "id": "d9302eca-da32-401e-a2b1-0495b31be306",
   "metadata": {},
   "outputs": [],
   "source": [
    "perf report\n",
    "perf stat ./your_program"
   ]
  },
  {
   "cell_type": "code",
   "execution_count": null,
   "id": "082a3aa5-22ef-4936-8f9e-8bd44a89ace7",
   "metadata": {},
   "outputs": [],
   "source": [
    "3. Сбор статистики событий (perf stat)\n",
    "Команда perf stat используется для сбора и отображения общей статистики выполнения программы.\n",
    "Пример:\n"
   ]
  },
  {
   "cell_type": "code",
   "execution_count": null,
   "id": "955f6bed-97cf-4156-ba87-3760f5dd91da",
   "metadata": {},
   "outputs": [],
   "source": [
    "perf list"
   ]
  },
  {
   "cell_type": "code",
   "execution_count": null,
   "id": "c1bf9849-aebe-4c69-bcd1-de86f08cc82e",
   "metadata": {},
   "outputs": [],
   "source": [
    "4. Анализ конкретных событий (perf list)\n",
    "Команда perf list позволяет получить список всех доступных событий, которые можно профилировать.\n",
    "Пример:\n"
   ]
  },
  {
   "cell_type": "code",
   "execution_count": null,
   "id": "c3ab8a82-322f-49b0-a424-d9052c20ee25",
   "metadata": {},
   "outputs": [],
   "source": [
    "perf trace"
   ]
  },
  {
   "cell_type": "code",
   "execution_count": null,
   "id": "51a320b4-be81-4fe4-819d-a965bbae7428",
   "metadata": {},
   "outputs": [],
   "source": [
    "5. Профилирование системы в реальном времени (perf top)\n",
    "Команда perf top аналогична утилите top, но с дополнительной информацией о производительности на уровне функций.\n",
    "Пример:\n"
   ]
  },
  {
   "cell_type": "code",
   "execution_count": null,
   "id": "b39245c5-ca08-4d1f-bba5-7f42ed0db7c0",
   "metadata": {},
   "outputs": [],
   "source": [
    "perf top"
   ]
  },
  {
   "cell_type": "code",
   "execution_count": null,
   "id": "7c950a2d-0ff6-4369-afee-b7180d5e0f08",
   "metadata": {},
   "outputs": [],
   "source": [
    "6. Трассировка системных вызовов и событий ядра (perf trace)\n",
    "Команда perf trace используется для отслеживания системных вызовов и других событий ядра.\n",
    "Пример:\n"
   ]
  },
  {
   "cell_type": "code",
   "execution_count": null,
   "id": "a930085c-ba67-4476-adc0-6cb6954dd9d7",
   "metadata": {},
   "outputs": [],
   "source": [
    "perf trace"
   ]
  },
  {
   "cell_type": "code",
   "execution_count": null,
   "id": "ac9dbaeb-4dd8-4418-8147-02f2cc5a254b",
   "metadata": {},
   "outputs": [],
   "source": [
    "7. Сбор данных для конкретного события (perf record -e)\n",
    "Вы можете собрать данные для конкретного события, используя опцию -e.\n",
    "Пример:\n"
   ]
  },
  {
   "cell_type": "code",
   "execution_count": null,
   "id": "2a9b643b-9682-4c8b-80be-1939bf4fdceb",
   "metadata": {},
   "outputs": [],
   "source": [
    "perf record -e cache-misses ./your_program"
   ]
  },
  {
   "cell_type": "code",
   "execution_count": null,
   "id": "aa45b9ea-eeb0-4ed7-9103-fb9d2094b40e",
   "metadata": {},
   "outputs": [],
   "source": [
    "Примеры использования и подходы\n",
    "1. Определение горячих точек (hotspots)\n",
    "Горячие точки — это функции или участки кода, которые потребляют наибольшее время выполнения. \n",
    "Используйте perf record -g и perf report, чтобы определить такие участки.\n"
   ]
  },
  {
   "cell_type": "code",
   "execution_count": null,
   "id": "fc4910cc-654e-4953-9f35-d0ce8b4e939e",
   "metadata": {},
   "outputs": [],
   "source": [
    "perf record -g ./your_program\n",
    "perf report"
   ]
  },
  {
   "cell_type": "code",
   "execution_count": null,
   "id": "26d300f6-8a34-4e52-acd9-fad1f4a6d842",
   "metadata": {},
   "outputs": [],
   "source": [
    "2. Анализ использования кэша\n",
    "Кэш-промахи могут существенно замедлить работу программы. Используйте perf stat для сбора статистики по кэшу.\n"
   ]
  },
  {
   "cell_type": "code",
   "execution_count": null,
   "id": "05f5dfdb-57cf-47f6-a199-804a172736a0",
   "metadata": {},
   "outputs": [],
   "source": [
    "perf stat -e cache-referebces,cache-misses ./your_pprogram"
   ]
  },
  {
   "cell_type": "code",
   "execution_count": null,
   "id": "6d4d5664-bc56-495f-8e9f-8f95b2ed8569",
   "metadata": {},
   "outputs": [],
   "source": [
    "3. Отладка производительности многопоточных приложений\n",
    "Многопоточные приложения могут страдать от проблем с синхронизацией и конкурентным доступом к ресурсам. \n",
    "Используйте perf record -g для профилирования таких приложений, а затем анализируйте стек вызовов.\n"
   ]
  },
  {
   "cell_type": "code",
   "execution_count": null,
   "id": "40f0ce5e-97c2-41d9-aa26-cad8edadea19",
   "metadata": {},
   "outputs": [],
   "source": [
    "perf record -g ./your_program\n",
    "perf report"
   ]
  },
  {
   "cell_type": "markdown",
   "id": "cede75ec-47c7-4b39-94d1-94250cd94a3b",
   "metadata": {},
   "source": [
    "<b>flamegraph</b>"
   ]
  },
  {
   "cell_type": "code",
   "execution_count": null,
   "id": "a44a54ad-73ab-49a7-b0cb-0acf6b1c00ad",
   "metadata": {},
   "outputs": [],
   "source": [
    "pip install py-spy\n",
    "\n",
    "py-spy record -p 1234 - flame --output.svg"
   ]
  }
 ],
 "metadata": {
  "kernelspec": {
   "display_name": "Python 3 (ipykernel)",
   "language": "python",
   "name": "python3"
  },
  "language_info": {
   "codemirror_mode": {
    "name": "ipython",
    "version": 3
   },
   "file_extension": ".py",
   "mimetype": "text/x-python",
   "name": "python",
   "nbconvert_exporter": "python",
   "pygments_lexer": "ipython3",
   "version": "3.11.7"
  }
 },
 "nbformat": 4,
 "nbformat_minor": 5
}
