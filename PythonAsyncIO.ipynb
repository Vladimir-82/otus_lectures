{
 "cells": [
  {
   "cell_type": "code",
   "execution_count": null,
   "id": "ff7a924a-60a1-491d-af6b-45405ccd80ac",
   "metadata": {},
   "outputs": [],
   "source": [
    "История появления asyncio в Python\n",
    "asyncio появился в Python как ответ на необходимость более эффективной работы с асинхронным программированием и I/O операциями.\n",
    "До его появления программисты использовали разные библиотеки и фреймворки для асинхронных задач, такие как Twisted или gevent, \n",
    "но они требовали отдельных решений для каждого проекта и вводили сложности при работе с Python.\n",
    "\n",
    "В Python 3.3 был представлен ключевой элемент асинхронности — yield from, а уже в Python 3.4 был добавлен модуль asyncio, \n",
    "который стал стандартной библиотекой для работы с асинхронным программированием.\n",
    "\n",
    "Основные задачи asyncio:\n",
    "\n",
    "Асинхронное выполнение ввода/вывода (сети, файловые системы).\n",
    "Планирование коррутин и задач.\n",
    "Работа с фьючерсами (Futures) и другими примитивами синхронизации.\n",
    "Коррутины и yield from\n",
    "Коррутины — это функции, которые могут быть приостановлены и возобновлены, что делает их идеальными для асинхронных операций. \n",
    "В Python они создаются с помощью ключевых слов async def и запускаются с использованием await.\n",
    "\n",
    "До введения ключевого слова await использовался оператор yield from:\n",
    "\n",
    "Он позволял передавать управление между генераторами и корутинами, что облегчало работу с итеративными и асинхронными потоками выполнения.\n",
    "yield from использовался для вызова корутины внутри другой корутины, передавая управление и позволяя получать значения.\n",
    "Пример использования yield from:"
   ]
  },
  {
   "cell_type": "code",
   "execution_count": 4,
   "id": "94b0943a-e538-4055-8ca0-c59193d76677",
   "metadata": {},
   "outputs": [
    {
     "name": "stdout",
     "output_type": "stream",
     "text": [
      "0\n",
      "1\n",
      "2\n"
     ]
    }
   ],
   "source": [
    "def coro1():\n",
    "    yield from range(3)\n",
    "\n",
    "def coro2():\n",
    "    yield from coro1()\n",
    "\n",
    "for val in coro2():\n",
    "    print(val)"
   ]
  },
  {
   "cell_type": "code",
   "execution_count": null,
   "id": "02db60b6-8d9f-4b05-841f-fab496b1d065",
   "metadata": {},
   "outputs": [],
   "source": [
    "В современном Python, yield from заменяется на await, который также используется для вызова корутин.\n",
    "\n",
    "Пример с async/await:"
   ]
  },
  {
   "cell_type": "code",
   "execution_count": 6,
   "id": "f89d4a94-4b72-4a2a-a2c6-6071d31a5f20",
   "metadata": {},
   "outputs": [
    {
     "name": "stdout",
     "output_type": "stream",
     "text": [
      "Hello\n"
     ]
    }
   ],
   "source": [
    "import asyncio\n",
    "\n",
    "async def coro1():\n",
    "    await asyncio.sleep(1)\n",
    "    return \"Hello\"\n",
    "\n",
    "async def main():\n",
    "    result = await coro1()\n",
    "    print(result)\n",
    "\n",
    "await main()\n"
   ]
  },
  {
   "cell_type": "code",
   "execution_count": null,
   "id": "58b478dd-ca0b-4a0c-a009-97624d1ed827",
   "metadata": {},
   "outputs": [],
   "source": [
    "Futures (Фьючерсы)\n",
    "Futures — это объекты, представляющие результат асинхронной операции, которая может завершиться в будущем. Фьючерсы позволяют планировать задачи, отслеживать их выполнение и получать результат по завершении.\n",
    "\n",
    "В asyncio фьючерсы используются для того, чтобы сигнализировать завершение долгих операций, например запросов к веб-серверам или базам данных.\n",
    "\n",
    "Основные методы и атрибуты фьючерсов:\n",
    "\n",
    "done() — проверяет, завершилась ли операция.\n",
    "result() — возвращает результат завершенной операции.\n",
    "set_result(value) — вручную задает результат операции.\n",
    "Пример использования фьючерсов:"
   ]
  },
  {
   "cell_type": "code",
   "execution_count": 7,
   "id": "3492e55e-ee88-4f34-bd4e-ff778564c3bf",
   "metadata": {},
   "outputs": [
    {
     "name": "stdout",
     "output_type": "stream",
     "text": [
      "result completed\n"
     ]
    }
   ],
   "source": [
    "import asyncio\n",
    "\n",
    "async def slow_operation(future):\n",
    "    await asyncio.sleep(2)\n",
    "    future.set_result(\"result completed\")\n",
    "\n",
    "async def main():\n",
    "    loop = asyncio.get_running_loop()\n",
    "    future = loop.create_future()\n",
    "    await slow_operation(future)\n",
    "    print(future.result())\n",
    "\n",
    "await main()"
   ]
  },
  {
   "cell_type": "code",
   "execution_count": null,
   "id": "e601460a-e1d8-41aa-8a1d-a5e8ec8e6ab9",
   "metadata": {},
   "outputs": [],
   "source": [
    "более подробно"
   ]
  },
  {
   "cell_type": "code",
   "execution_count": null,
   "id": "39f79ab1-4044-4aaa-b20a-5b98e3c2567a",
   "metadata": {},
   "outputs": [],
   "source": [
    "Эволюция корутин в Python прошла несколько этапов, начиная с обычных генераторов и постепенно усложняясь с введением корутин, оператора yield from, и \n",
    "завершив переходом к современным конструкциям async/await. Давайте рассмотрим каждый этап эволюции корутин.\n",
    "\n",
    "1. Генераторы (Generators)\n",
    "Генераторы в Python — это функции, которые возвращают значения последовательно с помощью оператора yield. Генераторы могут приостанавливать своё выполнение, \n",
    "запоминать контекст и возобновлять работу с того места, где они были остановлены. Генераторы используются в итерациях и ленивых вычислениях.\n",
    "\n",
    "Пример генератора:"
   ]
  },
  {
   "cell_type": "code",
   "execution_count": 8,
   "id": "e9a20cb7-5074-425e-97ca-18310f6a6315",
   "metadata": {},
   "outputs": [
    {
     "name": "stdout",
     "output_type": "stream",
     "text": [
      "1\n",
      "2\n",
      "3\n"
     ]
    }
   ],
   "source": [
    "def simple_generator():\n",
    "    yield 1\n",
    "    yield 2\n",
    "    yield 3\n",
    "\n",
    "gen = simple_generator()\n",
    "for value in gen:\n",
    "    print(value)"
   ]
  },
  {
   "cell_type": "code",
   "execution_count": null,
   "id": "990844f8-3eba-43c4-93c2-831fbe9bc7ff",
   "metadata": {},
   "outputs": [],
   "source": [
    "2. Коррутины (Coroutines)\n",
    "Коррутины похожи на генераторы, но они предназначены для кооперативной многозадачности. В отличие от генераторов, которые лишь возвращают значения, \n",
    "коррутины могут принимать значения с помощью метода .send(). Это позволяет им использоваться для асинхронных операций.\n",
    "\n",
    "Пример корутины:"
   ]
  },
  {
   "cell_type": "code",
   "execution_count": 9,
   "id": "b9f9f6d2-0837-4124-9e34-2985ae2f84e3",
   "metadata": {},
   "outputs": [
    {
     "name": "stdout",
     "output_type": "stream",
     "text": [
      "coroutine started\n",
      "Received value: 10\n",
      "Received value: 20\n"
     ]
    }
   ],
   "source": [
    "def couroutine_example():\n",
    "    print(\"coroutine started\")\n",
    "    while True:\n",
    "        value = (yield)\n",
    "        print(f\"Received value: {value}\")\n",
    "\n",
    "coro = couroutine_example()\n",
    "next(coro) # coro.__next__()\n",
    "coro.send(10)\n",
    "coro.send(20)"
   ]
  },
  {
   "cell_type": "code",
   "execution_count": null,
   "id": "09b34ab2-5921-4010-9c4f-25a977e5186a",
   "metadata": {},
   "outputs": [],
   "source": [
    "Оператор yield from\n",
    "До появления ключевых слов async и await, оператор yield from был введён для \n",
    "работы с корутинами и упрощения вложенных вызовов генераторов. Он позволял «делегировать» выполнение другой \n",
    "корутине или генератору, что делало код более читабельным и управляемым.\n",
    "\n",
    "Пример использования yield from:"
   ]
  },
  {
   "cell_type": "code",
   "execution_count": 10,
   "id": "fb5027b5-c605-47b5-aa23-6dfb75b8a26b",
   "metadata": {},
   "outputs": [
    {
     "name": "stdout",
     "output_type": "stream",
     "text": [
      "1\n",
      "2\n",
      "3\n",
      "4\n"
     ]
    }
   ],
   "source": [
    "def sub_generator():\n",
    "    yield 1\n",
    "    yield 2\n",
    "    yield 3\n",
    "\n",
    "def main_generator():\n",
    "    yield from sub_generator()\n",
    "    yield 4\n",
    "\n",
    "gen = main_generator()\n",
    "for value in gen:\n",
    "    print(value)"
   ]
  },
  {
   "cell_type": "code",
   "execution_count": null,
   "id": "b7190ab6-776c-46c1-8e02-d33a9467db64",
   "metadata": {},
   "outputs": [],
   "source": [
    " Асинхронные коррутины с async и await\n",
    "Начиная с Python 3.5, был введён новый синтаксис для работы с асинхронными корутинами — ключевые \n",
    "слова async и await. Это позволило разработчикам писать асинхронный код, который выглядел как последовательный, \n",
    "но выполнялся асинхронно. Этот синтаксис заменил yield from для корутин и стал стандартом для асинхронного программирования в Python.\n",
    "\n",
    "Пример:"
   ]
  },
  {
   "cell_type": "code",
   "execution_count": 12,
   "id": "bd463483-09ab-40da-b92b-78c2ad35b03d",
   "metadata": {},
   "outputs": [
    {
     "name": "stdout",
     "output_type": "stream",
     "text": [
      "start coro1\n",
      "end coro1\n"
     ]
    }
   ],
   "source": [
    "import asyncio\n",
    "async def coro1():\n",
    "    print(\"start coro1\")\n",
    "    await asyncio.sleep(1)\n",
    "    print(\"end coro1\")\n",
    "\n",
    "async def main():\n",
    "    await coro1()\n",
    "\n",
    "await main()"
   ]
  },
  {
   "cell_type": "code",
   "execution_count": null,
   "id": "ce8b0bd9-f31b-4e12-9ffb-31b9caabadae",
   "metadata": {},
   "outputs": [],
   "source": [
    "Ключевые моменты:\n",
    "\n",
    "async def определяет асинхронную функцию (корутину).\n",
    "await позволяет приостановить выполнение корутины до тех пор, пока не будет получен результат \n",
    "от другой асинхронной операции (например, I/O операция).\n",
    "asyncio.run() запускает асинхронную программу.\n",
    "Этот синтаксис делает работу с асинхронным кодом интуитивно понятной и простой.\n",
    "\n",
    "Эволюция в целом\n",
    "Генераторы ввели концепцию ленивых вычислений и возможности приостановки выполнения.\n",
    "Коррутины добавили возможность принимать значения и эффективно использовать их в многозадачных приложениях.\n",
    "yield from упростил работу с вложенными генераторами и корутинами, сделав передачу управления между ними более удобной.\n",
    "async и await стали стандартом для асинхронного программирования в Python, \n",
    "полностью заменив yield from для корутин и сделав асинхронный код более читабельным."
   ]
  },
  {
   "cell_type": "code",
   "execution_count": null,
   "id": "30149171-dc0c-45cb-84cc-3bdf86d6808a",
   "metadata": {},
   "outputs": [],
   "source": []
  },
  {
   "cell_type": "code",
   "execution_count": null,
   "id": "08b0751f-359c-46de-ab11-66765823c342",
   "metadata": {},
   "outputs": [],
   "source": [
    "Что такое Future\n",
    "Future — это объект, представляющий результат некоторой операции, которая может быть завершена в будущем \n",
    "(отсюда и название). Он используется в асинхронных сценариях для отслеживания состояния операции: выполнена она или нет, и если да, то каким результатом завершилась.\n",
    "\n",
    "Основные методы и атрибуты Future:\n",
    "\n",
    "done() — возвращает True, если операция завершена.\n",
    "result() — возвращает результат операции (если операция завершена).\n",
    "set_result(value) — устанавливает результат для фьючерса.\n",
    "exception() — возвращает исключение, если оно было поднято в ходе выполнения.\n",
    "Пример с использованием asyncio.Future\n",
    "В этом примере мы создаем фьючерс вручную и имитируем выполнение долгой асинхронной задачи с помощью asyncio.sleep()."
   ]
  },
  {
   "cell_type": "code",
   "execution_count": 13,
   "id": "7d1499fa-1068-47c7-a5fe-4835a6f9f669",
   "metadata": {},
   "outputs": [
    {
     "name": "stdout",
     "output_type": "stream",
     "text": [
      "start of long operation\n",
      "operation completed\n"
     ]
    }
   ],
   "source": [
    "import asyncio\n",
    "async def long_running_operation(future):\n",
    "    print(\"start of long operation\")\n",
    "    await asyncio.sleep(2)\n",
    "    future.set_result(\"operation completed\")\n",
    "\n",
    "async def main():\n",
    "    loop = asyncio.get_running_loop()\n",
    "    future = loop.create_future()\n",
    "    await long_running_operation(future)\n",
    "    print(future.result())\n",
    "\n",
    "await main()\n",
    "\n"
   ]
  },
  {
   "cell_type": "code",
   "execution_count": null,
   "id": "336c5feb-43ee-453d-b90b-8220d169ffc3",
   "metadata": {},
   "outputs": [],
   "source": [
    "Что происходит в этом коде:\n",
    "Создание фьючерса: В main() мы создаем фьючерс с помощью loop.create_future().\n",
    "Асинхронная операция: Функция long_running_operation() симулирует долгую операцию, используя await asyncio.sleep(2). Это не блокирует основной поток выполнения, а лишь приостанавливает корутину.\n",
    "Установка результата: По завершению «долгой» операции мы устанавливаем результат для фьючерса с помощью future.set_result(\"Операция завершена\").\n",
    "Получение результата: В корутине main() мы ждем завершения долгой операции, а затем извлекаем результат с помощью future.result().\n",
    "Автоматическое использование фьючерсов в asyncio\n",
    "Когда вы пишете асинхронные функции с async def и используете await, большинство объектов, которые вы ожидаете, \n",
    "                                     уже возвращают фьючерсы автоматически. Например, любой вызов await asyncio.sleep() или асинхронного ввода/вывода внутри asyncio создаёт фьючерс и возвращает его, когда задача завершена.\n",
    "\n",
    "Пример автоматического создания фьючерса:"
   ]
  },
  {
   "cell_type": "code",
   "execution_count": 14,
   "id": "1e41bf80-6e01-46cf-9236-358cdb22950d",
   "metadata": {},
   "outputs": [
    {
     "name": "stdout",
     "output_type": "stream",
     "text": [
      "the end\n"
     ]
    }
   ],
   "source": [
    "import asyncio\n",
    "async def my_coroutine():\n",
    "    await asyncio.sleep(2)\n",
    "    return \"the end\"\n",
    "\n",
    "async def main():\n",
    "    result = await my_coroutine()\n",
    "    print(result)\n",
    "await main()"
   ]
  },
  {
   "cell_type": "code",
   "execution_count": null,
   "id": "0e2bcd5a-56c7-4269-8ee0-cf310c136304",
   "metadata": {},
   "outputs": [],
   "source": [
    "Здесь фьючерс создается и управляется автоматически библиотекой asyncio. Вам не нужно явно его создавать и управлять им, как в предыдущем примере.\n",
    "\n",
    "concurrent.futures.Future\n",
    "Есть еще один тип фьючерсов — concurrent.futures.Future, который используется при работе с многопоточностью и многопроцессорностью. \n",
    "Этот тип фьючерсов часто используется с пулом потоков или процессов (ThreadPoolExecutor или ProcessPoolExecutor).\n",
    "\n",
    "Пример с использованием ThreadPoolExecutor и concurrent.futures.Future:"
   ]
  },
  {
   "cell_type": "code",
   "execution_count": null,
   "id": "7b627336-1618-45a3-9728-d7ed435a76c1",
   "metadata": {},
   "outputs": [],
   "source": [
    "Здесь concurrent.futures.Future используется для работы с блокирующими операциями в отдельных потоках, что позволяет выполнять задачи параллельно.\n",
    "\n",
    "Заключение\n",
    "Фьючерсы предоставляют механизм для отложенного выполнения, что особенно полезно в асинхронных сценариях. Основные их задачи:\n",
    "\n",
    "Отслеживать состояние выполнения задачи (завершена ли она).\n",
    "Хранить результат, который будет доступен после завершения задачи.\n",
    "Позволять программе продолжать выполнение, не блокируя основной поток.\n",
    "Асинхронные корутины в Python автоматически возвращают фьючерсы, поэтому вручную их использовать нужно редко, но их понимание важно для эффективной работы с асинхронностью."
   ]
  },
  {
   "cell_type": "code",
   "execution_count": 15,
   "id": "aee50c87-35d9-4fac-a5e8-96e1ca477949",
   "metadata": {},
   "outputs": [
    {
     "name": "stdout",
     "output_type": "stream",
     "text": [
      "start blocking task\n",
      "result\n"
     ]
    }
   ],
   "source": [
    "import concurrent.futures\n",
    "\n",
    "def blocking_task():\n",
    "    print(\"start blocking task\")\n",
    "    return \"result\"\n",
    "\n",
    "with concurrent.futures.ThreadPoolExecutor() as executor:\n",
    "    future = executor.submit(blocking_task)\n",
    "    print(future.result())"
   ]
  },
  {
   "cell_type": "code",
   "execution_count": null,
   "id": "4e190d0c-9fb5-4c13-a5f6-fb970852f86a",
   "metadata": {},
   "outputs": [],
   "source": []
  }
 ],
 "metadata": {
  "kernelspec": {
   "display_name": "Python 3 (ipykernel)",
   "language": "python",
   "name": "python3"
  },
  "language_info": {
   "codemirror_mode": {
    "name": "ipython",
    "version": 3
   },
   "file_extension": ".py",
   "mimetype": "text/x-python",
   "name": "python",
   "nbconvert_exporter": "python",
   "pygments_lexer": "ipython3",
   "version": "3.10.12"
  }
 },
 "nbformat": 4,
 "nbformat_minor": 5
}
